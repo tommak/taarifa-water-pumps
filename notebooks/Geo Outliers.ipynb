{
 "cells": [
  {
   "cell_type": "code",
   "execution_count": 1,
   "metadata": {
    "scrolled": false
   },
   "outputs": [],
   "source": [
    "import sys\n",
    "sys.path.append('/Users/toma/Documents/Projects/taarifa-water-pumps')"
   ]
  },
  {
   "cell_type": "code",
   "execution_count": 2,
   "metadata": {
    "scrolled": false
   },
   "outputs": [],
   "source": [
    "import os\n",
    "import pandas as pd\n",
    "import numpy as np\n",
    "import scipy.stats as ss\n",
    "\n",
    "import matplotlib.pyplot as plt\n",
    "import seaborn as sns\n",
    "%matplotlib inline\n",
    "\n",
    "import clean as cl"
   ]
  },
  {
   "cell_type": "code",
   "execution_count": 3,
   "metadata": {
    "scrolled": false
   },
   "outputs": [],
   "source": [
    "def read_preprocess(x_path, y_path):\n",
    "    repl = {'construction_year': {0: np.nan},\n",
    "         'scheme_management': {'None': np.nan},\n",
    "         'population': {0: np.nan}}\n",
    "\n",
    "    df = pd.read_csv(x_path)\n",
    "    if y_path:\n",
    "        df_y = pd.read_csv(y_path)\n",
    "        df = pd.merge(df, df_y, left_on='id', right_on='id', how='left')\n",
    "#         df['status_group'] = df['status_group'].replace(target_encoding)\n",
    "    df = df.replace(repl)\n",
    "\n",
    "    df.date_recorded = pd.to_datetime(df.date_recorded, format=\"%Y-%m-%d\")\n",
    "    df['month_recorded'] = df.date_recorded.dt.month\n",
    "    df['year_recorded'] = df.date_recorded.dt.year\n",
    "    df['age_recorded'] = df.date_recorded.dt.year - df.construction_year\n",
    "    df.loc[df.age_recorded < 0, 'age_recorded'] = np.nan\n",
    "    df.permit = df.permit.replace({True: 'yes', False: 'no'})\n",
    "    df.public_meeting = df.public_meeting.replace({True: 'yes', False: 'no'})\n",
    "    \n",
    "    cl.fe_funder(df, 'funder')\n",
    "    cl.fe_installer(df, 'installer')\n",
    "    cl.fe_scheme_name(df, 'scheme_name')\n",
    "\n",
    "    return df"
   ]
  },
  {
   "cell_type": "code",
   "execution_count": 4,
   "metadata": {
    "scrolled": false
   },
   "outputs": [],
   "source": [
    "save_path = '/Users/toma/Documents/Projects/taarifa-water-pumps/data'\n",
    "X_train = pd.read_csv(os.path.join(save_path, 'train_x.csv'))\n",
    "y_train = pd.read_csv(os.path.join(save_path, 'train_y.csv'), names=[\"status\"])"
   ]
  },
  {
   "cell_type": "code",
   "execution_count": 5,
   "metadata": {
    "scrolled": false
   },
   "outputs": [],
   "source": [
    "X = read_preprocess(os.path.join(save_path, 'train_x.csv'), os.path.join(save_path, 'train_y.csv'))"
   ]
  },
  {
   "cell_type": "code",
   "execution_count": 6,
   "metadata": {
    "scrolled": false
   },
   "outputs": [
    {
     "data": {
      "text/plain": [
       "(59400, 44)"
      ]
     },
     "execution_count": 6,
     "metadata": {},
     "output_type": "execute_result"
    }
   ],
   "source": [
    "X.shape"
   ]
  },
  {
   "cell_type": "code",
   "execution_count": 7,
   "metadata": {
    "scrolled": false
   },
   "outputs": [],
   "source": [
    "categorical_features = list(X.select_dtypes(exclude=np.number).columns) + ['region_code', 'district_code']"
   ]
  },
  {
   "cell_type": "code",
   "execution_count": 8,
   "metadata": {
    "scrolled": false
   },
   "outputs": [],
   "source": [
    "numeric_features = [c for c in X.select_dtypes(include=np.number).columns if c not in categorical_features] "
   ]
  },
  {
   "cell_type": "code",
   "execution_count": 9,
   "metadata": {
    "scrolled": false
   },
   "outputs": [
    {
     "data": {
      "text/plain": [
       "['id',\n",
       " 'amount_tsh',\n",
       " 'gps_height',\n",
       " 'longitude',\n",
       " 'latitude',\n",
       " 'num_private',\n",
       " 'population',\n",
       " 'construction_year',\n",
       " 'month_recorded',\n",
       " 'year_recorded',\n",
       " 'age_recorded']"
      ]
     },
     "execution_count": 9,
     "metadata": {},
     "output_type": "execute_result"
    }
   ],
   "source": [
    "numeric_features"
   ]
  },
  {
   "cell_type": "markdown",
   "metadata": {},
   "source": [
    "Geo values for Tanzania region"
   ]
  },
  {
   "cell_type": "code",
   "execution_count": 12,
   "metadata": {
    "scrolled": false
   },
   "outputs": [],
   "source": [
    "min_long = 28.633\n",
    "max_long =41.275\n",
    "min_lat = -11.740\n",
    "max_lat =  -0.874"
   ]
  },
  {
   "cell_type": "code",
   "execution_count": 13,
   "metadata": {
    "scrolled": false
   },
   "outputs": [],
   "source": [
    "lon_outl = 'longitude > @max_long or longitude < @min_long'\n",
    "lat_outl = 'latitude < @min_lat or latitude > @max_lat'\n",
    "geo_outl = lon_outl + ' or ' + lat_outl"
   ]
  },
  {
   "cell_type": "code",
   "execution_count": 14,
   "metadata": {
    "scrolled": false
   },
   "outputs": [
    {
     "data": {
      "text/plain": [
       "(1812, 44)"
      ]
     },
     "execution_count": 14,
     "metadata": {},
     "output_type": "execute_result"
    }
   ],
   "source": [
    "X.query(geo_outl).shape"
   ]
  },
  {
   "cell_type": "code",
   "execution_count": 15,
   "metadata": {
    "scrolled": false
   },
   "outputs": [],
   "source": [
    "X['longitude_'] = X.longitude\n",
    "X.loc[X.query(lon_outl).index, 'longitude_'] = np.nan\n",
    "\n",
    "X['latitude_'] = X.latitude\n",
    "X.loc[X.query(lat_outl).index, 'latitude_'] = np.nan"
   ]
  },
  {
   "cell_type": "code",
   "execution_count": 16,
   "metadata": {
    "scrolled": false
   },
   "outputs": [
    {
     "data": {
      "text/plain": [
       "population           35.994949\n",
       "age_recorded         34.878788\n",
       "construction_year    34.863636\n",
       "scheme_management     6.528620\n",
       "public_meeting        5.612795\n",
       "permit                5.144781\n",
       "longitude_            3.050505\n",
       "latitude_             3.050505\n",
       "subvillage            0.624579\n",
       "source_class          0.000000\n",
       "dtype: float64"
      ]
     },
     "execution_count": 16,
     "metadata": {},
     "output_type": "execute_result"
    }
   ],
   "source": [
    "(100 * X.isnull().mean()).sort_values(ascending=False).head(10)"
   ]
  },
  {
   "cell_type": "code",
   "execution_count": 17,
   "metadata": {
    "scrolled": false
   },
   "outputs": [
    {
     "data": {
      "text/plain": [
       "population           2138100\n",
       "age_recorded         2071800\n",
       "construction_year    2070900\n",
       "scheme_management     387800\n",
       "public_meeting        333400\n",
       "permit                305600\n",
       "longitude_            181200\n",
       "latitude_             181200\n",
       "subvillage             37100\n",
       "source_class               0\n",
       "dtype: int64"
      ]
     },
     "execution_count": 17,
     "metadata": {},
     "output_type": "execute_result"
    }
   ],
   "source": [
    "(100 * X.isnull().sum()).sort_values(ascending=False).head(10)"
   ]
  },
  {
   "cell_type": "code",
   "execution_count": 18,
   "metadata": {
    "scrolled": false
   },
   "outputs": [],
   "source": [
    "import missingno as msno"
   ]
  },
  {
   "cell_type": "code",
   "execution_count": 19,
   "metadata": {
    "scrolled": false
   },
   "outputs": [],
   "source": [
    "missing_cols = ['population', 'construction_year', 'scheme_management', 'public_meeting', 'permit', \n",
    "              'longitude_', 'latitude_', 'subvillage']"
   ]
  },
  {
   "cell_type": "code",
   "execution_count": 20,
   "metadata": {
    "scrolled": false
   },
   "outputs": [
    {
     "data": {
      "text/plain": [
       "<matplotlib.axes._subplots.AxesSubplot at 0x1a1b6da1d0>"
      ]
     },
     "execution_count": 20,
     "metadata": {},
     "output_type": "execute_result"
    },
    {
     "data": {
      "image/png": "[encoded data removed]",
      "text/plain": [
       "<Figure size 1800x720 with 2 Axes>"
      ]
     },
     "metadata": {
      "needs_background": "light"
     },
     "output_type": "display_data"
    }
   ],
   "source": [
    "msno.matrix(X[missing_cols])"
   ]
  },
  {
   "cell_type": "code",
   "execution_count": 21,
   "metadata": {
    "scrolled": false
   },
   "outputs": [
    {
     "data": {
      "text/plain": [
       "<matplotlib.axes._subplots.AxesSubplot at 0x1a1b41e8d0>"
      ]
     },
     "execution_count": 21,
     "metadata": {},
     "output_type": "execute_result"
    },
    {
     "data": {
      "image/png": "[encoded data removed]",
      "text/plain": [
       "<Figure size 1440x864 with 2 Axes>"
      ]
     },
     "metadata": {
      "needs_background": "light"
     },
     "output_type": "display_data"
    }
   ],
   "source": [
    "msno.heatmap(X[missing_cols])"
   ]
  },
  {
   "cell_type": "code",
   "execution_count": 22,
   "metadata": {
    "scrolled": false
   },
   "outputs": [
    {
     "data": {
      "text/html": [
       "<div>\n",
       "<style scoped>\n",
       "    .dataframe tbody tr th:only-of-type {\n",
       "        vertical-align: middle;\n",
       "    }\n",
       "\n",
       "    .dataframe tbody tr th {\n",
       "        vertical-align: top;\n",
       "    }\n",
       "\n",
       "    .dataframe thead th {\n",
       "        text-align: right;\n",
       "    }\n",
       "</style>\n",
       "<table border=\"1\" class=\"dataframe\">\n",
       "  <thead>\n",
       "    <tr style=\"text-align: right;\">\n",
       "      <th></th>\n",
       "      <th>population</th>\n",
       "      <th>construction_year</th>\n",
       "      <th>scheme_management</th>\n",
       "      <th>public_meeting</th>\n",
       "      <th>permit</th>\n",
       "      <th>longitude_</th>\n",
       "      <th>latitude_</th>\n",
       "      <th>subvillage</th>\n",
       "    </tr>\n",
       "  </thead>\n",
       "  <tbody>\n",
       "    <tr>\n",
       "      <th>population</th>\n",
       "      <td>1.000000</td>\n",
       "      <td>0.925894</td>\n",
       "      <td>-0.004385</td>\n",
       "      <td>-0.033231</td>\n",
       "      <td>0.001428</td>\n",
       "      <td>0.236537</td>\n",
       "      <td>0.236537</td>\n",
       "      <td>0.101264</td>\n",
       "    </tr>\n",
       "    <tr>\n",
       "      <th>construction_year</th>\n",
       "      <td>0.925894</td>\n",
       "      <td>1.000000</td>\n",
       "      <td>0.010438</td>\n",
       "      <td>-0.020621</td>\n",
       "      <td>0.010166</td>\n",
       "      <td>0.242459</td>\n",
       "      <td>0.242459</td>\n",
       "      <td>0.103878</td>\n",
       "    </tr>\n",
       "    <tr>\n",
       "      <th>scheme_management</th>\n",
       "      <td>-0.004385</td>\n",
       "      <td>0.010438</td>\n",
       "      <td>1.000000</td>\n",
       "      <td>0.058132</td>\n",
       "      <td>-0.048901</td>\n",
       "      <td>0.003448</td>\n",
       "      <td>0.003448</td>\n",
       "      <td>-0.014032</td>\n",
       "    </tr>\n",
       "    <tr>\n",
       "      <th>public_meeting</th>\n",
       "      <td>-0.033231</td>\n",
       "      <td>-0.020621</td>\n",
       "      <td>0.058132</td>\n",
       "      <td>1.000000</td>\n",
       "      <td>0.032935</td>\n",
       "      <td>0.109006</td>\n",
       "      <td>0.109006</td>\n",
       "      <td>-0.018404</td>\n",
       "    </tr>\n",
       "    <tr>\n",
       "      <th>permit</th>\n",
       "      <td>0.001428</td>\n",
       "      <td>0.010166</td>\n",
       "      <td>-0.048901</td>\n",
       "      <td>0.032935</td>\n",
       "      <td>1.000000</td>\n",
       "      <td>-0.041311</td>\n",
       "      <td>-0.041311</td>\n",
       "      <td>-0.018463</td>\n",
       "    </tr>\n",
       "    <tr>\n",
       "      <th>longitude_</th>\n",
       "      <td>0.236537</td>\n",
       "      <td>0.242459</td>\n",
       "      <td>0.003448</td>\n",
       "      <td>0.109006</td>\n",
       "      <td>-0.041311</td>\n",
       "      <td>1.000000</td>\n",
       "      <td>1.000000</td>\n",
       "      <td>-0.014063</td>\n",
       "    </tr>\n",
       "    <tr>\n",
       "      <th>latitude_</th>\n",
       "      <td>0.236537</td>\n",
       "      <td>0.242459</td>\n",
       "      <td>0.003448</td>\n",
       "      <td>0.109006</td>\n",
       "      <td>-0.041311</td>\n",
       "      <td>1.000000</td>\n",
       "      <td>1.000000</td>\n",
       "      <td>-0.014063</td>\n",
       "    </tr>\n",
       "    <tr>\n",
       "      <th>subvillage</th>\n",
       "      <td>0.101264</td>\n",
       "      <td>0.103878</td>\n",
       "      <td>-0.014032</td>\n",
       "      <td>-0.018404</td>\n",
       "      <td>-0.018463</td>\n",
       "      <td>-0.014063</td>\n",
       "      <td>-0.014063</td>\n",
       "      <td>1.000000</td>\n",
       "    </tr>\n",
       "  </tbody>\n",
       "</table>\n",
       "</div>"
      ],
      "text/plain": [
       "                   population  construction_year  scheme_management  \\\n",
       "population           1.000000           0.925894          -0.004385   \n",
       "construction_year    0.925894           1.000000           0.010438   \n",
       "scheme_management   -0.004385           0.010438           1.000000   \n",
       "public_meeting      -0.033231          -0.020621           0.058132   \n",
       "permit               0.001428           0.010166          -0.048901   \n",
       "longitude_           0.236537           0.242459           0.003448   \n",
       "latitude_            0.236537           0.242459           0.003448   \n",
       "subvillage           0.101264           0.103878          -0.014032   \n",
       "\n",
       "                   public_meeting    permit  longitude_  latitude_  subvillage  \n",
       "population              -0.033231  0.001428    0.236537   0.236537    0.101264  \n",
       "construction_year       -0.020621  0.010166    0.242459   0.242459    0.103878  \n",
       "scheme_management        0.058132 -0.048901    0.003448   0.003448   -0.014032  \n",
       "public_meeting           1.000000  0.032935    0.109006   0.109006   -0.018404  \n",
       "permit                   0.032935  1.000000   -0.041311  -0.041311   -0.018463  \n",
       "longitude_               0.109006 -0.041311    1.000000   1.000000   -0.014063  \n",
       "latitude_                0.109006 -0.041311    1.000000   1.000000   -0.014063  \n",
       "subvillage              -0.018404 -0.018463   -0.014063  -0.014063    1.000000  "
      ]
     },
     "execution_count": 22,
     "metadata": {},
     "output_type": "execute_result"
    }
   ],
   "source": [
    "X[missing_cols].isnull().corr()"
   ]
  },
  {
   "cell_type": "code",
   "execution_count": 23,
   "metadata": {
    "scrolled": false
   },
   "outputs": [],
   "source": [
    "miss = X[missing_cols].isnull()"
   ]
  },
  {
   "cell_type": "code",
   "execution_count": 24,
   "metadata": {
    "scrolled": false
   },
   "outputs": [],
   "source": [
    "miss = pd.merge(miss, X[[c for c in X.columns if c not in missing_cols]], left_index=True,\n",
    "               right_index=True)"
   ]
  },
  {
   "cell_type": "code",
   "execution_count": 25,
   "metadata": {
    "scrolled": false
   },
   "outputs": [],
   "source": [
    "from dython.nominal import associations"
   ]
  },
  {
   "cell_type": "markdown",
   "metadata": {},
   "source": [
    "Next we check dependence between the fact that the variable is missing with a few other variables in the\n",
    "data set"
   ]
  },
  {
   "cell_type": "code",
   "execution_count": 26,
   "metadata": {
    "scrolled": false
   },
   "outputs": [
    {
     "data": {
      "image/png": "[encoded data removed]",
      "text/plain": [
       "<Figure size 720x720 with 2 Axes>"
      ]
     },
     "metadata": {
      "needs_background": "light"
     },
     "output_type": "display_data"
    }
   ],
   "source": [
    "associations(miss[missing_cols + ['funder', 'region',  'lga', ]].copy(), \n",
    "             nominal_columns=['funder', 'region', 'lga'],\n",
    "            figsize=(10,10))"
   ]
  },
  {
   "cell_type": "markdown",
   "metadata": {},
   "source": [
    "### Imputing strategy for geo data"
   ]
  },
  {
   "cell_type": "code",
   "execution_count": 27,
   "metadata": {},
   "outputs": [],
   "source": [
    "X['longitude_miss'] = X.longitude_.isnull()"
   ]
  },
  {
   "cell_type": "code",
   "execution_count": 28,
   "metadata": {},
   "outputs": [],
   "source": [
    "count_miss = lambda s: s.isnull().sum()"
   ]
  },
  {
   "cell_type": "code",
   "execution_count": 29,
   "metadata": {
    "scrolled": true
   },
   "outputs": [
    {
     "data": {
      "text/html": [
       "<div>\n",
       "<style scoped>\n",
       "    .dataframe tbody tr th:only-of-type {\n",
       "        vertical-align: middle;\n",
       "    }\n",
       "\n",
       "    .dataframe tbody tr th {\n",
       "        vertical-align: top;\n",
       "    }\n",
       "\n",
       "    .dataframe thead th {\n",
       "        text-align: right;\n",
       "    }\n",
       "</style>\n",
       "<table border=\"1\" class=\"dataframe\">\n",
       "  <thead>\n",
       "    <tr style=\"text-align: right;\">\n",
       "      <th></th>\n",
       "      <th></th>\n",
       "      <th>ln_mean</th>\n",
       "      <th>ln_std</th>\n",
       "      <th>ln_count</th>\n",
       "      <th>ln_nb_miss</th>\n",
       "      <th>lt_mean</th>\n",
       "      <th>lt_std</th>\n",
       "      <th>lt_count</th>\n",
       "      <th>lt_nb_miss</th>\n",
       "    </tr>\n",
       "    <tr>\n",
       "      <th>region</th>\n",
       "      <th>lga</th>\n",
       "      <th></th>\n",
       "      <th></th>\n",
       "      <th></th>\n",
       "      <th></th>\n",
       "      <th></th>\n",
       "      <th></th>\n",
       "      <th></th>\n",
       "      <th></th>\n",
       "    </tr>\n",
       "  </thead>\n",
       "  <tbody>\n",
       "    <tr>\n",
       "      <th rowspan=\"2\" valign=\"top\">Mwanza</th>\n",
       "      <th>Geita</th>\n",
       "      <td>NaN</td>\n",
       "      <td>NaN</td>\n",
       "      <td>488</td>\n",
       "      <td>488.0</td>\n",
       "      <td>NaN</td>\n",
       "      <td>NaN</td>\n",
       "      <td>488</td>\n",
       "      <td>488.0</td>\n",
       "    </tr>\n",
       "    <tr>\n",
       "      <th>Magu</th>\n",
       "      <td>33.282024</td>\n",
       "      <td>0.227722</td>\n",
       "      <td>824</td>\n",
       "      <td>319.0</td>\n",
       "      <td>-2.568506</td>\n",
       "      <td>0.090723</td>\n",
       "      <td>824</td>\n",
       "      <td>319.0</td>\n",
       "    </tr>\n",
       "    <tr>\n",
       "      <th>Shinyanga</th>\n",
       "      <th>Bariadi</th>\n",
       "      <td>34.179476</td>\n",
       "      <td>0.120967</td>\n",
       "      <td>1177</td>\n",
       "      <td>1005.0</td>\n",
       "      <td>-2.962381</td>\n",
       "      <td>0.046255</td>\n",
       "      <td>1177</td>\n",
       "      <td>1005.0</td>\n",
       "    </tr>\n",
       "  </tbody>\n",
       "</table>\n",
       "</div>"
      ],
      "text/plain": [
       "                     ln_mean    ln_std  ln_count  ln_nb_miss   lt_mean  \\\n",
       "region    lga                                                            \n",
       "Mwanza    Geita          NaN       NaN       488       488.0       NaN   \n",
       "          Magu     33.282024  0.227722       824       319.0 -2.568506   \n",
       "Shinyanga Bariadi  34.179476  0.120967      1177      1005.0 -2.962381   \n",
       "\n",
       "                     lt_std  lt_count  lt_nb_miss  \n",
       "region    lga                                      \n",
       "Mwanza    Geita         NaN       488       488.0  \n",
       "          Magu     0.090723       824       319.0  \n",
       "Shinyanga Bariadi  0.046255      1177      1005.0  "
      ]
     },
     "execution_count": 29,
     "metadata": {},
     "output_type": "execute_result"
    }
   ],
   "source": [
    "s = X.groupby(['region','lga'])[['longitude_', 'latitude_']].agg(['mean', 'std', 'size', count_miss]) \n",
    "s.columns = ['ln_mean', 'ln_std', 'ln_count', 'ln_nb_miss',\n",
    "            'lt_mean', 'lt_std', 'lt_count', 'lt_nb_miss']\n",
    "# s[s.nb_miss>0]\n",
    "s.query('ln_nb_miss>0 or lt_nb_miss>0')"
   ]
  },
  {
   "cell_type": "code",
   "execution_count": 31,
   "metadata": {},
   "outputs": [
    {
     "data": {
      "text/html": [
       "<div>\n",
       "<style scoped>\n",
       "    .dataframe tbody tr th:only-of-type {\n",
       "        vertical-align: middle;\n",
       "    }\n",
       "\n",
       "    .dataframe tbody tr th {\n",
       "        vertical-align: top;\n",
       "    }\n",
       "\n",
       "    .dataframe thead th {\n",
       "        text-align: right;\n",
       "    }\n",
       "</style>\n",
       "<table border=\"1\" class=\"dataframe\">\n",
       "  <thead>\n",
       "    <tr style=\"text-align: right;\">\n",
       "      <th></th>\n",
       "      <th>ln_mean</th>\n",
       "      <th>ln_std</th>\n",
       "      <th>ln_count</th>\n",
       "      <th>ln_nb_miss</th>\n",
       "      <th>lt_mean</th>\n",
       "      <th>lt_std</th>\n",
       "      <th>lt_count</th>\n",
       "      <th>lt_nb_miss</th>\n",
       "    </tr>\n",
       "    <tr>\n",
       "      <th>region</th>\n",
       "      <th></th>\n",
       "      <th></th>\n",
       "      <th></th>\n",
       "      <th></th>\n",
       "      <th></th>\n",
       "      <th></th>\n",
       "      <th></th>\n",
       "      <th></th>\n",
       "    </tr>\n",
       "  </thead>\n",
       "  <tbody>\n",
       "    <tr>\n",
       "      <th>Mwanza</th>\n",
       "      <td>33.091564</td>\n",
       "      <td>0.329287</td>\n",
       "      <td>3102</td>\n",
       "      <td>807.0</td>\n",
       "      <td>-2.620502</td>\n",
       "      <td>0.329898</td>\n",
       "      <td>3102</td>\n",
       "      <td>807.0</td>\n",
       "    </tr>\n",
       "    <tr>\n",
       "      <th>Shinyanga</th>\n",
       "      <td>33.240121</td>\n",
       "      <td>0.765545</td>\n",
       "      <td>4982</td>\n",
       "      <td>1005.0</td>\n",
       "      <td>-3.495696</td>\n",
       "      <td>0.328573</td>\n",
       "      <td>4982</td>\n",
       "      <td>1005.0</td>\n",
       "    </tr>\n",
       "  </tbody>\n",
       "</table>\n",
       "</div>"
      ],
      "text/plain": [
       "             ln_mean    ln_std  ln_count  ln_nb_miss   lt_mean    lt_std  \\\n",
       "region                                                                     \n",
       "Mwanza     33.091564  0.329287      3102       807.0 -2.620502  0.329898   \n",
       "Shinyanga  33.240121  0.765545      4982      1005.0 -3.495696  0.328573   \n",
       "\n",
       "           lt_count  lt_nb_miss  \n",
       "region                           \n",
       "Mwanza         3102       807.0  \n",
       "Shinyanga      4982      1005.0  "
      ]
     },
     "execution_count": 31,
     "metadata": {},
     "output_type": "execute_result"
    }
   ],
   "source": [
    "s = X.groupby(['region'])[['longitude_', 'latitude_']].agg(['mean', 'std', 'size', count_miss]) \n",
    "s.columns = ['ln_mean', 'ln_std', 'ln_count', 'ln_nb_miss',\n",
    "            'lt_mean', 'lt_std', 'lt_count', 'lt_nb_miss']\n",
    "# s[s.nb_miss>0]\n",
    "s.query('ln_nb_miss>0 or lt_nb_miss>0')"
   ]
  },
  {
   "cell_type": "code",
   "execution_count": 32,
   "metadata": {},
   "outputs": [
    {
     "data": {
      "text/plain": [
       "(59400, 47)"
      ]
     },
     "execution_count": 32,
     "metadata": {},
     "output_type": "execute_result"
    }
   ],
   "source": [
    "X.shape"
   ]
  },
  {
   "cell_type": "code",
   "execution_count": 33,
   "metadata": {},
   "outputs": [],
   "source": [
    "def inpute_geo(X):\n",
    "    min_long = 28.633\n",
    "    max_long =41.275\n",
    "    min_lat = -11.740\n",
    "    max_lat =  -0.874\n",
    "\n",
    "    lon_outl = 'longitude > @max_long or longitude < @min_long'\n",
    "    lat_outl = 'latitude < @min_lat or latitude > @max_lat'\n",
    "    geo_outl = lon_outl + ' or ' + lat_outl\n",
    "    \n",
    "    \n",
    "    X.loc[X.query(lon_outl).index, 'longitude'] = np.nan\n",
    "    X.loc[X.query(lat_outl).index, 'latitude'] = np.nan\n",
    "    \n",
    "    ln_lga = X.groupby('lga').longitude.agg(['median', 'count'])\n",
    "    ln_region = X.groupby('region').longitude.agg(['median', 'count'])\n",
    "    lt_lga = X.groupby('lga').latitude.agg(['median', 'count'])\n",
    "    lt_region = X.groupby('region').latitude.agg(['median', 'count'])\n",
    "    \n",
    "    d = X[['region', 'lga', 'longitude', 'latitude']].copy()\n",
    "    d = pd.merge(d, ln_lga, how='left', left_on='lga', right_index=True).rename(columns={'median': 'ln_lga_med',\n",
    "                                                                                        'count': 'ln_lga_nb'})\n",
    "    d = pd.merge(d, ln_region, how='left', left_on='region', right_index=True).rename(columns={'median': 'ln_rg_med',\n",
    "                                                                                        'count': 'ln_rg_nb'})\n",
    "    \n",
    "    d = pd.merge(d, lt_lga, how='left', left_on='lga', right_index=True).rename(columns={'median': 'lt_lga_med',\n",
    "                                                                                        'count': 'lt_lga_nb'})\n",
    "    \n",
    "    d = pd.merge(d, lt_region, how='left', left_on='region', right_index=True).rename(columns={'median': 'lt_rg_med',\n",
    "                                                                                        'count': 'lt_rg_nb'})\n",
    "    \n",
    "    d['ln_fill'] = d.ln_lga_med.where(d.ln_lga_nb>10, d.ln_rg_med)\n",
    "    d['lt_fill'] = d.lt_lga_med.where(d.lt_lga_nb>10, d.lt_rg_med) \n",
    "    \n",
    "    \n",
    "    X.longitude = X.longitude.fillna(d.ln_fill)\n",
    "    X.latitude = X.latitude.fillna(d.lt_fill)\n",
    "    \n",
    "    return X\n",
    "    \n",
    "    \n",
    "    "
   ]
  },
  {
   "cell_type": "code",
   "execution_count": 34,
   "metadata": {},
   "outputs": [],
   "source": [
    "X_cl, d = inpute_geo(X)"
   ]
  },
  {
   "cell_type": "code",
   "execution_count": 35,
   "metadata": {},
   "outputs": [
    {
     "data": {
      "text/html": [
       "<div>\n",
       "<style scoped>\n",
       "    .dataframe tbody tr th:only-of-type {\n",
       "        vertical-align: middle;\n",
       "    }\n",
       "\n",
       "    .dataframe tbody tr th {\n",
       "        vertical-align: top;\n",
       "    }\n",
       "\n",
       "    .dataframe thead th {\n",
       "        text-align: right;\n",
       "    }\n",
       "</style>\n",
       "<table border=\"1\" class=\"dataframe\">\n",
       "  <thead>\n",
       "    <tr style=\"text-align: right;\">\n",
       "      <th></th>\n",
       "      <th>region</th>\n",
       "      <th>lga</th>\n",
       "      <th>longitude</th>\n",
       "      <th>latitude</th>\n",
       "      <th>ln_lga_med</th>\n",
       "      <th>ln_lga_nb</th>\n",
       "      <th>ln_rg_med</th>\n",
       "      <th>ln_rg_nb</th>\n",
       "      <th>lt_lga_med</th>\n",
       "      <th>lt_lga_nb</th>\n",
       "      <th>lt_rg_med</th>\n",
       "      <th>lt_rg_nb</th>\n",
       "      <th>ln_fill</th>\n",
       "      <th>lt_fill</th>\n",
       "    </tr>\n",
       "  </thead>\n",
       "  <tbody>\n",
       "    <tr>\n",
       "      <th>0</th>\n",
       "      <td>Iringa</td>\n",
       "      <td>Ludewa</td>\n",
       "      <td>34.938093</td>\n",
       "      <td>-9.856322</td>\n",
       "      <td>34.678659</td>\n",
       "      <td>564</td>\n",
       "      <td>34.775052</td>\n",
       "      <td>5294</td>\n",
       "      <td>-9.831755</td>\n",
       "      <td>564</td>\n",
       "      <td>-9.079441</td>\n",
       "      <td>5294</td>\n",
       "      <td>34.678659</td>\n",
       "      <td>-9.831755</td>\n",
       "    </tr>\n",
       "    <tr>\n",
       "      <th>1</th>\n",
       "      <td>Mara</td>\n",
       "      <td>Serengeti</td>\n",
       "      <td>34.698766</td>\n",
       "      <td>-2.147466</td>\n",
       "      <td>34.515953</td>\n",
       "      <td>716</td>\n",
       "      <td>34.137821</td>\n",
       "      <td>1969</td>\n",
       "      <td>-1.797177</td>\n",
       "      <td>716</td>\n",
       "      <td>-1.771854</td>\n",
       "      <td>1969</td>\n",
       "      <td>34.515953</td>\n",
       "      <td>-1.797177</td>\n",
       "    </tr>\n",
       "    <tr>\n",
       "      <th>2</th>\n",
       "      <td>Manyara</td>\n",
       "      <td>Simanjiro</td>\n",
       "      <td>37.460664</td>\n",
       "      <td>-3.821329</td>\n",
       "      <td>37.013464</td>\n",
       "      <td>308</td>\n",
       "      <td>35.653555</td>\n",
       "      <td>1583</td>\n",
       "      <td>-3.690670</td>\n",
       "      <td>308</td>\n",
       "      <td>-4.224828</td>\n",
       "      <td>1583</td>\n",
       "      <td>37.013464</td>\n",
       "      <td>-3.690670</td>\n",
       "    </tr>\n",
       "    <tr>\n",
       "      <th>3</th>\n",
       "      <td>Mtwara</td>\n",
       "      <td>Nanyumbu</td>\n",
       "      <td>38.486161</td>\n",
       "      <td>-11.155298</td>\n",
       "      <td>38.456683</td>\n",
       "      <td>158</td>\n",
       "      <td>39.374870</td>\n",
       "      <td>1730</td>\n",
       "      <td>-10.976995</td>\n",
       "      <td>158</td>\n",
       "      <td>-10.708706</td>\n",
       "      <td>1730</td>\n",
       "      <td>38.456683</td>\n",
       "      <td>-10.976995</td>\n",
       "    </tr>\n",
       "    <tr>\n",
       "      <th>4</th>\n",
       "      <td>Kagera</td>\n",
       "      <td>Karagwe</td>\n",
       "      <td>31.130847</td>\n",
       "      <td>-1.825359</td>\n",
       "      <td>30.952440</td>\n",
       "      <td>771</td>\n",
       "      <td>31.357266</td>\n",
       "      <td>3316</td>\n",
       "      <td>-1.472080</td>\n",
       "      <td>771</td>\n",
       "      <td>-1.740384</td>\n",
       "      <td>3316</td>\n",
       "      <td>30.952440</td>\n",
       "      <td>-1.472080</td>\n",
       "    </tr>\n",
       "  </tbody>\n",
       "</table>\n",
       "</div>"
      ],
      "text/plain": [
       "    region        lga  longitude   latitude  ln_lga_med  ln_lga_nb  ln_rg_med  \\\n",
       "0   Iringa     Ludewa  34.938093  -9.856322   34.678659        564  34.775052   \n",
       "1     Mara  Serengeti  34.698766  -2.147466   34.515953        716  34.137821   \n",
       "2  Manyara  Simanjiro  37.460664  -3.821329   37.013464        308  35.653555   \n",
       "3   Mtwara   Nanyumbu  38.486161 -11.155298   38.456683        158  39.374870   \n",
       "4   Kagera    Karagwe  31.130847  -1.825359   30.952440        771  31.357266   \n",
       "\n",
       "   ln_rg_nb  lt_lga_med  lt_lga_nb  lt_rg_med  lt_rg_nb    ln_fill    lt_fill  \n",
       "0      5294   -9.831755        564  -9.079441      5294  34.678659  -9.831755  \n",
       "1      1969   -1.797177        716  -1.771854      1969  34.515953  -1.797177  \n",
       "2      1583   -3.690670        308  -4.224828      1583  37.013464  -3.690670  \n",
       "3      1730  -10.976995        158 -10.708706      1730  38.456683 -10.976995  \n",
       "4      3316   -1.472080        771  -1.740384      3316  30.952440  -1.472080  "
      ]
     },
     "execution_count": 35,
     "metadata": {},
     "output_type": "execute_result"
    }
   ],
   "source": [
    "d.head()"
   ]
  },
  {
   "cell_type": "code",
   "execution_count": null,
   "metadata": {},
   "outputs": [],
   "source": []
  },
  {
   "cell_type": "markdown",
   "metadata": {},
   "source": [
    "### Missing values of population and construction year"
   ]
  },
  {
   "cell_type": "code",
   "execution_count": 181,
   "metadata": {},
   "outputs": [
    {
     "data": {
      "text/html": [
       "<div>\n",
       "<style scoped>\n",
       "    .dataframe tbody tr th:only-of-type {\n",
       "        vertical-align: middle;\n",
       "    }\n",
       "\n",
       "    .dataframe tbody tr th {\n",
       "        vertical-align: top;\n",
       "    }\n",
       "\n",
       "    .dataframe thead tr th {\n",
       "        text-align: left;\n",
       "    }\n",
       "\n",
       "    .dataframe thead tr:last-of-type th {\n",
       "        text-align: right;\n",
       "    }\n",
       "</style>\n",
       "<table border=\"1\" class=\"dataframe\">\n",
       "  <thead>\n",
       "    <tr>\n",
       "      <th></th>\n",
       "      <th colspan=\"4\" halign=\"left\">population</th>\n",
       "    </tr>\n",
       "    <tr>\n",
       "      <th></th>\n",
       "      <th>median</th>\n",
       "      <th>std</th>\n",
       "      <th>size</th>\n",
       "      <th>nb_miss</th>\n",
       "    </tr>\n",
       "    <tr>\n",
       "      <th>region</th>\n",
       "      <th></th>\n",
       "      <th></th>\n",
       "      <th></th>\n",
       "      <th></th>\n",
       "    </tr>\n",
       "  </thead>\n",
       "  <tbody>\n",
       "    <tr>\n",
       "      <th>Arusha</th>\n",
       "      <td>150.0</td>\n",
       "      <td>442.733646</td>\n",
       "      <td>3350</td>\n",
       "      <td>1.0</td>\n",
       "    </tr>\n",
       "    <tr>\n",
       "      <th>Dodoma</th>\n",
       "      <td>NaN</td>\n",
       "      <td>NaN</td>\n",
       "      <td>2201</td>\n",
       "      <td>2201.0</td>\n",
       "    </tr>\n",
       "    <tr>\n",
       "      <th>Iringa</th>\n",
       "      <td>54.0</td>\n",
       "      <td>207.994290</td>\n",
       "      <td>5294</td>\n",
       "      <td>1164.0</td>\n",
       "    </tr>\n",
       "    <tr>\n",
       "      <th>Kagera</th>\n",
       "      <td>NaN</td>\n",
       "      <td>NaN</td>\n",
       "      <td>3316</td>\n",
       "      <td>3316.0</td>\n",
       "    </tr>\n",
       "    <tr>\n",
       "      <th>Kigoma</th>\n",
       "      <td>360.0</td>\n",
       "      <td>590.972462</td>\n",
       "      <td>2816</td>\n",
       "      <td>31.0</td>\n",
       "    </tr>\n",
       "    <tr>\n",
       "      <th>Mbeya</th>\n",
       "      <td>NaN</td>\n",
       "      <td>NaN</td>\n",
       "      <td>4639</td>\n",
       "      <td>4639.0</td>\n",
       "    </tr>\n",
       "    <tr>\n",
       "      <th>Mwanza</th>\n",
       "      <td>400.0</td>\n",
       "      <td>493.794049</td>\n",
       "      <td>3102</td>\n",
       "      <td>2735.0</td>\n",
       "    </tr>\n",
       "    <tr>\n",
       "      <th>Pwani</th>\n",
       "      <td>50.0</td>\n",
       "      <td>970.509564</td>\n",
       "      <td>2635</td>\n",
       "      <td>1.0</td>\n",
       "    </tr>\n",
       "    <tr>\n",
       "      <th>Rukwa</th>\n",
       "      <td>200.0</td>\n",
       "      <td>750.746680</td>\n",
       "      <td>1808</td>\n",
       "      <td>47.0</td>\n",
       "    </tr>\n",
       "    <tr>\n",
       "      <th>Ruvuma</th>\n",
       "      <td>100.0</td>\n",
       "      <td>483.515680</td>\n",
       "      <td>2640</td>\n",
       "      <td>467.0</td>\n",
       "    </tr>\n",
       "    <tr>\n",
       "      <th>Shinyanga</th>\n",
       "      <td>500.0</td>\n",
       "      <td>224.024946</td>\n",
       "      <td>4982</td>\n",
       "      <td>4818.0</td>\n",
       "    </tr>\n",
       "    <tr>\n",
       "      <th>Singida</th>\n",
       "      <td>200.0</td>\n",
       "      <td>494.377984</td>\n",
       "      <td>2093</td>\n",
       "      <td>2.0</td>\n",
       "    </tr>\n",
       "    <tr>\n",
       "      <th>Tabora</th>\n",
       "      <td>NaN</td>\n",
       "      <td>NaN</td>\n",
       "      <td>1959</td>\n",
       "      <td>1959.0</td>\n",
       "    </tr>\n",
       "  </tbody>\n",
       "</table>\n",
       "</div>"
      ],
      "text/plain": [
       "          population                          \n",
       "              median         std  size nb_miss\n",
       "region                                        \n",
       "Arusha         150.0  442.733646  3350     1.0\n",
       "Dodoma           NaN         NaN  2201  2201.0\n",
       "Iringa          54.0  207.994290  5294  1164.0\n",
       "Kagera           NaN         NaN  3316  3316.0\n",
       "Kigoma         360.0  590.972462  2816    31.0\n",
       "Mbeya            NaN         NaN  4639  4639.0\n",
       "Mwanza         400.0  493.794049  3102  2735.0\n",
       "Pwani           50.0  970.509564  2635     1.0\n",
       "Rukwa          200.0  750.746680  1808    47.0\n",
       "Ruvuma         100.0  483.515680  2640   467.0\n",
       "Shinyanga      500.0  224.024946  4982  4818.0\n",
       "Singida        200.0  494.377984  2093     2.0\n",
       "Tabora           NaN         NaN  1959  1959.0"
      ]
     },
     "execution_count": 181,
     "metadata": {},
     "output_type": "execute_result"
    }
   ],
   "source": [
    "s = X.groupby(['region'])[['population']].agg(['median', 'std', 'size', count_miss]) \n",
    "s = s.rename(columns={'<lambda_0>': 'nb_miss'}, level=1)\n",
    "s[s['population']['nb_miss']>0]\n"
   ]
  },
  {
   "cell_type": "markdown",
   "metadata": {},
   "source": [
    "Global median"
   ]
  },
  {
   "cell_type": "code",
   "execution_count": 180,
   "metadata": {},
   "outputs": [
    {
     "data": {
      "text/plain": [
       "150.0"
      ]
     },
     "execution_count": 180,
     "metadata": {},
     "output_type": "execute_result"
    }
   ],
   "source": [
    "X.population.median()"
   ]
  },
  {
   "cell_type": "code",
   "execution_count": 40,
   "metadata": {},
   "outputs": [
    {
     "data": {
      "text/html": [
       "<div>\n",
       "<style scoped>\n",
       "    .dataframe tbody tr th:only-of-type {\n",
       "        vertical-align: middle;\n",
       "    }\n",
       "\n",
       "    .dataframe tbody tr th {\n",
       "        vertical-align: top;\n",
       "    }\n",
       "\n",
       "    .dataframe thead tr th {\n",
       "        text-align: left;\n",
       "    }\n",
       "\n",
       "    .dataframe thead tr:last-of-type th {\n",
       "        text-align: right;\n",
       "    }\n",
       "</style>\n",
       "<table border=\"1\" class=\"dataframe\">\n",
       "  <thead>\n",
       "    <tr>\n",
       "      <th></th>\n",
       "      <th colspan=\"6\" halign=\"left\">construction_year</th>\n",
       "    </tr>\n",
       "    <tr>\n",
       "      <th></th>\n",
       "      <th>median</th>\n",
       "      <th>min</th>\n",
       "      <th>max</th>\n",
       "      <th>std</th>\n",
       "      <th>size</th>\n",
       "      <th>nb_miss</th>\n",
       "    </tr>\n",
       "    <tr>\n",
       "      <th>region</th>\n",
       "      <th></th>\n",
       "      <th></th>\n",
       "      <th></th>\n",
       "      <th></th>\n",
       "      <th></th>\n",
       "      <th></th>\n",
       "    </tr>\n",
       "  </thead>\n",
       "  <tbody>\n",
       "    <tr>\n",
       "      <th>Shinyanga</th>\n",
       "      <td>2005.0</td>\n",
       "      <td>1985.0</td>\n",
       "      <td>2012.0</td>\n",
       "      <td>5.762456</td>\n",
       "      <td>4982</td>\n",
       "      <td>4818.0</td>\n",
       "    </tr>\n",
       "    <tr>\n",
       "      <th>Mwanza</th>\n",
       "      <td>1996.0</td>\n",
       "      <td>1963.0</td>\n",
       "      <td>2011.0</td>\n",
       "      <td>11.245977</td>\n",
       "      <td>3102</td>\n",
       "      <td>2747.0</td>\n",
       "    </tr>\n",
       "    <tr>\n",
       "      <th>Iringa</th>\n",
       "      <td>2000.0</td>\n",
       "      <td>1964.0</td>\n",
       "      <td>2011.0</td>\n",
       "      <td>11.488838</td>\n",
       "      <td>5294</td>\n",
       "      <td>372.0</td>\n",
       "    </tr>\n",
       "    <tr>\n",
       "      <th>Pwani</th>\n",
       "      <td>2007.0</td>\n",
       "      <td>1964.0</td>\n",
       "      <td>2011.0</td>\n",
       "      <td>9.986162</td>\n",
       "      <td>2635</td>\n",
       "      <td>176.0</td>\n",
       "    </tr>\n",
       "    <tr>\n",
       "      <th>Lindi</th>\n",
       "      <td>1997.0</td>\n",
       "      <td>1960.0</td>\n",
       "      <td>2013.0</td>\n",
       "      <td>13.656049</td>\n",
       "      <td>1546</td>\n",
       "      <td>113.0</td>\n",
       "    </tr>\n",
       "    <tr>\n",
       "      <th>Tanga</th>\n",
       "      <td>1996.0</td>\n",
       "      <td>1960.0</td>\n",
       "      <td>2011.0</td>\n",
       "      <td>14.658288</td>\n",
       "      <td>2547</td>\n",
       "      <td>94.0</td>\n",
       "    </tr>\n",
       "    <tr>\n",
       "      <th>Mtwara</th>\n",
       "      <td>1988.0</td>\n",
       "      <td>1966.0</td>\n",
       "      <td>2013.0</td>\n",
       "      <td>13.297554</td>\n",
       "      <td>1730</td>\n",
       "      <td>87.0</td>\n",
       "    </tr>\n",
       "    <tr>\n",
       "      <th>Arusha</th>\n",
       "      <td>2001.0</td>\n",
       "      <td>1960.0</td>\n",
       "      <td>2013.0</td>\n",
       "      <td>11.915853</td>\n",
       "      <td>3350</td>\n",
       "      <td>51.0</td>\n",
       "    </tr>\n",
       "    <tr>\n",
       "      <th>Kilimanjaro</th>\n",
       "      <td>2002.0</td>\n",
       "      <td>1960.0</td>\n",
       "      <td>2013.0</td>\n",
       "      <td>14.748032</td>\n",
       "      <td>4379</td>\n",
       "      <td>35.0</td>\n",
       "    </tr>\n",
       "    <tr>\n",
       "      <th>Morogoro</th>\n",
       "      <td>1997.0</td>\n",
       "      <td>1960.0</td>\n",
       "      <td>2011.0</td>\n",
       "      <td>11.629409</td>\n",
       "      <td>4006</td>\n",
       "      <td>18.0</td>\n",
       "    </tr>\n",
       "    <tr>\n",
       "      <th>Dar es Salaam</th>\n",
       "      <td>2000.0</td>\n",
       "      <td>1960.0</td>\n",
       "      <td>2010.0</td>\n",
       "      <td>11.041489</td>\n",
       "      <td>805</td>\n",
       "      <td>17.0</td>\n",
       "    </tr>\n",
       "    <tr>\n",
       "      <th>Mara</th>\n",
       "      <td>1998.0</td>\n",
       "      <td>1960.0</td>\n",
       "      <td>2012.0</td>\n",
       "      <td>11.537118</td>\n",
       "      <td>1969</td>\n",
       "      <td>17.0</td>\n",
       "    </tr>\n",
       "    <tr>\n",
       "      <th>Ruvuma</th>\n",
       "      <td>1997.0</td>\n",
       "      <td>1968.0</td>\n",
       "      <td>2013.0</td>\n",
       "      <td>10.002448</td>\n",
       "      <td>2640</td>\n",
       "      <td>16.0</td>\n",
       "    </tr>\n",
       "    <tr>\n",
       "      <th>Manyara</th>\n",
       "      <td>2004.0</td>\n",
       "      <td>1964.0</td>\n",
       "      <td>2013.0</td>\n",
       "      <td>9.803441</td>\n",
       "      <td>1583</td>\n",
       "      <td>13.0</td>\n",
       "    </tr>\n",
       "    <tr>\n",
       "      <th>Kigoma</th>\n",
       "      <td>2001.0</td>\n",
       "      <td>1966.0</td>\n",
       "      <td>2013.0</td>\n",
       "      <td>10.822891</td>\n",
       "      <td>2816</td>\n",
       "      <td>10.0</td>\n",
       "    </tr>\n",
       "    <tr>\n",
       "      <th>Singida</th>\n",
       "      <td>2000.0</td>\n",
       "      <td>1960.0</td>\n",
       "      <td>2012.0</td>\n",
       "      <td>13.520203</td>\n",
       "      <td>2093</td>\n",
       "      <td>8.0</td>\n",
       "    </tr>\n",
       "    <tr>\n",
       "      <th>Rukwa</th>\n",
       "      <td>1988.0</td>\n",
       "      <td>1965.0</td>\n",
       "      <td>2012.0</td>\n",
       "      <td>10.459128</td>\n",
       "      <td>1808</td>\n",
       "      <td>2.0</td>\n",
       "    </tr>\n",
       "  </tbody>\n",
       "</table>\n",
       "</div>"
      ],
      "text/plain": [
       "              construction_year                                         \n",
       "                         median     min     max        std  size nb_miss\n",
       "region                                                                  \n",
       "Shinyanga                2005.0  1985.0  2012.0   5.762456  4982  4818.0\n",
       "Mwanza                   1996.0  1963.0  2011.0  11.245977  3102  2747.0\n",
       "Iringa                   2000.0  1964.0  2011.0  11.488838  5294   372.0\n",
       "Pwani                    2007.0  1964.0  2011.0   9.986162  2635   176.0\n",
       "Lindi                    1997.0  1960.0  2013.0  13.656049  1546   113.0\n",
       "Tanga                    1996.0  1960.0  2011.0  14.658288  2547    94.0\n",
       "Mtwara                   1988.0  1966.0  2013.0  13.297554  1730    87.0\n",
       "Arusha                   2001.0  1960.0  2013.0  11.915853  3350    51.0\n",
       "Kilimanjaro              2002.0  1960.0  2013.0  14.748032  4379    35.0\n",
       "Morogoro                 1997.0  1960.0  2011.0  11.629409  4006    18.0\n",
       "Dar es Salaam            2000.0  1960.0  2010.0  11.041489   805    17.0\n",
       "Mara                     1998.0  1960.0  2012.0  11.537118  1969    17.0\n",
       "Ruvuma                   1997.0  1968.0  2013.0  10.002448  2640    16.0\n",
       "Manyara                  2004.0  1964.0  2013.0   9.803441  1583    13.0\n",
       "Kigoma                   2001.0  1966.0  2013.0  10.822891  2816    10.0\n",
       "Singida                  2000.0  1960.0  2012.0  13.520203  2093     8.0\n",
       "Rukwa                    1988.0  1965.0  2012.0  10.459128  1808     2.0"
      ]
     },
     "execution_count": 40,
     "metadata": {},
     "output_type": "execute_result"
    }
   ],
   "source": [
    "s = X.groupby(['region'])[['construction_year']].agg(['median', 'min', 'max', 'std', 'size', count_miss]) \n",
    "s = s.rename(columns={'<lambda_0>': 'nb_miss'}, level=1)\n",
    "s[(s['construction_year']['median']>0) & (s['construction_year']['nb_miss']>0)].\\\n",
    "                sort_values(('construction_year', 'nb_miss'), ascending=False )\n"
   ]
  },
  {
   "cell_type": "markdown",
   "metadata": {},
   "source": [
    "Global median"
   ]
  },
  {
   "cell_type": "code",
   "execution_count": 42,
   "metadata": {},
   "outputs": [
    {
     "data": {
      "text/plain": [
       "2000.0"
      ]
     },
     "execution_count": 42,
     "metadata": {},
     "output_type": "execute_result"
    }
   ],
   "source": [
    "X.construction_year.median()"
   ]
  },
  {
   "cell_type": "code",
   "execution_count": null,
   "metadata": {},
   "outputs": [],
   "source": []
  }
 ],
 "metadata": {
  "kernelspec": {
   "display_name": "Python 3",
   "language": "python",
   "name": "python3"
  },
  "language_info": {
   "codemirror_mode": {
    "name": "ipython",
    "version": 3
   },
   "file_extension": ".py",
   "mimetype": "text/x-python",
   "name": "python",
   "nbconvert_exporter": "python",
   "pygments_lexer": "ipython3",
   "version": "3.7.3"
  }
 },
 "nbformat": 4,
 "nbformat_minor": 2
}
