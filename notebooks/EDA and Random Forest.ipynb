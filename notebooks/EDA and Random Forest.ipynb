{
 "cells": [
  {
   "cell_type": "markdown",
   "metadata": {},
   "source": [
    "# Random Forest First Steps"
   ]
  },
  {
   "cell_type": "markdown",
   "metadata": {},
   "source": [
    "We will start with a very basic data scan and cleaning and jump right away to the prediction model which will give us a starting point of minimal data prediction power and feature structure\n",
    "\n",
    "We will start with Random forest classifier as it is well suited to the situation with many categorical predictors. "
   ]
  },
  {
   "cell_type": "code",
   "execution_count": 1,
   "metadata": {},
   "outputs": [],
   "source": [
    "import pandas as pd\n",
    "import numpy as np\n",
    "\n",
    "%matplotlib inline"
   ]
  },
  {
   "cell_type": "code",
   "execution_count": 2,
   "metadata": {},
   "outputs": [],
   "source": [
    "path_train_x = '/Users/toma/Documents/Projects/taarifa-water-pumps/data/train_x.csv'\n",
    "path_train_y = '/Users/toma/Documents/Projects/taarifa-water-pumps/data/train_y.csv'"
   ]
  },
  {
   "cell_type": "code",
   "execution_count": 3,
   "metadata": {},
   "outputs": [],
   "source": [
    "train_x = pd.read_csv(path_train_x)"
   ]
  },
  {
   "cell_type": "code",
   "execution_count": 4,
   "metadata": {},
   "outputs": [],
   "source": [
    "train_y = pd.read_csv(path_train_y)"
   ]
  },
  {
   "cell_type": "code",
   "execution_count": 5,
   "metadata": {},
   "outputs": [
    {
     "name": "stdout",
     "output_type": "stream",
     "text": [
      "(59400, 40)\n",
      "(59400, 2)\n"
     ]
    }
   ],
   "source": [
    "print(train_x.shape)\n",
    "print(train_y.shape)"
   ]
  },
  {
   "cell_type": "code",
   "execution_count": 6,
   "metadata": {},
   "outputs": [
    {
     "data": {
      "text/html": [
       "<div>\n",
       "<style scoped>\n",
       "    .dataframe tbody tr th:only-of-type {\n",
       "        vertical-align: middle;\n",
       "    }\n",
       "\n",
       "    .dataframe tbody tr th {\n",
       "        vertical-align: top;\n",
       "    }\n",
       "\n",
       "    .dataframe thead th {\n",
       "        text-align: right;\n",
       "    }\n",
       "</style>\n",
       "<table border=\"1\" class=\"dataframe\">\n",
       "  <thead>\n",
       "    <tr style=\"text-align: right;\">\n",
       "      <th></th>\n",
       "      <th>id</th>\n",
       "      <th>amount_tsh</th>\n",
       "      <th>date_recorded</th>\n",
       "      <th>funder</th>\n",
       "      <th>gps_height</th>\n",
       "      <th>installer</th>\n",
       "      <th>longitude</th>\n",
       "      <th>latitude</th>\n",
       "      <th>wpt_name</th>\n",
       "      <th>num_private</th>\n",
       "      <th>...</th>\n",
       "      <th>payment_type</th>\n",
       "      <th>water_quality</th>\n",
       "      <th>quality_group</th>\n",
       "      <th>quantity</th>\n",
       "      <th>quantity_group</th>\n",
       "      <th>source</th>\n",
       "      <th>source_type</th>\n",
       "      <th>source_class</th>\n",
       "      <th>waterpoint_type</th>\n",
       "      <th>waterpoint_type_group</th>\n",
       "    </tr>\n",
       "  </thead>\n",
       "  <tbody>\n",
       "    <tr>\n",
       "      <th>0</th>\n",
       "      <td>69572</td>\n",
       "      <td>6000.0</td>\n",
       "      <td>2011-03-14</td>\n",
       "      <td>Roman</td>\n",
       "      <td>1390</td>\n",
       "      <td>Roman</td>\n",
       "      <td>34.938093</td>\n",
       "      <td>-9.856322</td>\n",
       "      <td>none</td>\n",
       "      <td>0</td>\n",
       "      <td>...</td>\n",
       "      <td>annually</td>\n",
       "      <td>soft</td>\n",
       "      <td>good</td>\n",
       "      <td>enough</td>\n",
       "      <td>enough</td>\n",
       "      <td>spring</td>\n",
       "      <td>spring</td>\n",
       "      <td>groundwater</td>\n",
       "      <td>communal standpipe</td>\n",
       "      <td>communal standpipe</td>\n",
       "    </tr>\n",
       "    <tr>\n",
       "      <th>1</th>\n",
       "      <td>8776</td>\n",
       "      <td>0.0</td>\n",
       "      <td>2013-03-06</td>\n",
       "      <td>Grumeti</td>\n",
       "      <td>1399</td>\n",
       "      <td>GRUMETI</td>\n",
       "      <td>34.698766</td>\n",
       "      <td>-2.147466</td>\n",
       "      <td>Zahanati</td>\n",
       "      <td>0</td>\n",
       "      <td>...</td>\n",
       "      <td>never pay</td>\n",
       "      <td>soft</td>\n",
       "      <td>good</td>\n",
       "      <td>insufficient</td>\n",
       "      <td>insufficient</td>\n",
       "      <td>rainwater harvesting</td>\n",
       "      <td>rainwater harvesting</td>\n",
       "      <td>surface</td>\n",
       "      <td>communal standpipe</td>\n",
       "      <td>communal standpipe</td>\n",
       "    </tr>\n",
       "    <tr>\n",
       "      <th>2</th>\n",
       "      <td>34310</td>\n",
       "      <td>25.0</td>\n",
       "      <td>2013-02-25</td>\n",
       "      <td>Lottery Club</td>\n",
       "      <td>686</td>\n",
       "      <td>World vision</td>\n",
       "      <td>37.460664</td>\n",
       "      <td>-3.821329</td>\n",
       "      <td>Kwa Mahundi</td>\n",
       "      <td>0</td>\n",
       "      <td>...</td>\n",
       "      <td>per bucket</td>\n",
       "      <td>soft</td>\n",
       "      <td>good</td>\n",
       "      <td>enough</td>\n",
       "      <td>enough</td>\n",
       "      <td>dam</td>\n",
       "      <td>dam</td>\n",
       "      <td>surface</td>\n",
       "      <td>communal standpipe multiple</td>\n",
       "      <td>communal standpipe</td>\n",
       "    </tr>\n",
       "    <tr>\n",
       "      <th>3</th>\n",
       "      <td>67743</td>\n",
       "      <td>0.0</td>\n",
       "      <td>2013-01-28</td>\n",
       "      <td>Unicef</td>\n",
       "      <td>263</td>\n",
       "      <td>UNICEF</td>\n",
       "      <td>38.486161</td>\n",
       "      <td>-11.155298</td>\n",
       "      <td>Zahanati Ya Nanyumbu</td>\n",
       "      <td>0</td>\n",
       "      <td>...</td>\n",
       "      <td>never pay</td>\n",
       "      <td>soft</td>\n",
       "      <td>good</td>\n",
       "      <td>dry</td>\n",
       "      <td>dry</td>\n",
       "      <td>machine dbh</td>\n",
       "      <td>borehole</td>\n",
       "      <td>groundwater</td>\n",
       "      <td>communal standpipe multiple</td>\n",
       "      <td>communal standpipe</td>\n",
       "    </tr>\n",
       "    <tr>\n",
       "      <th>4</th>\n",
       "      <td>19728</td>\n",
       "      <td>0.0</td>\n",
       "      <td>2011-07-13</td>\n",
       "      <td>Action In A</td>\n",
       "      <td>0</td>\n",
       "      <td>Artisan</td>\n",
       "      <td>31.130847</td>\n",
       "      <td>-1.825359</td>\n",
       "      <td>Shuleni</td>\n",
       "      <td>0</td>\n",
       "      <td>...</td>\n",
       "      <td>never pay</td>\n",
       "      <td>soft</td>\n",
       "      <td>good</td>\n",
       "      <td>seasonal</td>\n",
       "      <td>seasonal</td>\n",
       "      <td>rainwater harvesting</td>\n",
       "      <td>rainwater harvesting</td>\n",
       "      <td>surface</td>\n",
       "      <td>communal standpipe</td>\n",
       "      <td>communal standpipe</td>\n",
       "    </tr>\n",
       "  </tbody>\n",
       "</table>\n",
       "<p>5 rows × 40 columns</p>\n",
       "</div>"
      ],
      "text/plain": [
       "      id  amount_tsh date_recorded        funder  gps_height     installer  \\\n",
       "0  69572      6000.0    2011-03-14         Roman        1390         Roman   \n",
       "1   8776         0.0    2013-03-06       Grumeti        1399       GRUMETI   \n",
       "2  34310        25.0    2013-02-25  Lottery Club         686  World vision   \n",
       "3  67743         0.0    2013-01-28        Unicef         263        UNICEF   \n",
       "4  19728         0.0    2011-07-13   Action In A           0       Artisan   \n",
       "\n",
       "   longitude   latitude              wpt_name  num_private  ... payment_type  \\\n",
       "0  34.938093  -9.856322                  none            0  ...     annually   \n",
       "1  34.698766  -2.147466              Zahanati            0  ...    never pay   \n",
       "2  37.460664  -3.821329           Kwa Mahundi            0  ...   per bucket   \n",
       "3  38.486161 -11.155298  Zahanati Ya Nanyumbu            0  ...    never pay   \n",
       "4  31.130847  -1.825359               Shuleni            0  ...    never pay   \n",
       "\n",
       "  water_quality quality_group      quantity  quantity_group  \\\n",
       "0          soft          good        enough          enough   \n",
       "1          soft          good  insufficient    insufficient   \n",
       "2          soft          good        enough          enough   \n",
       "3          soft          good           dry             dry   \n",
       "4          soft          good      seasonal        seasonal   \n",
       "\n",
       "                 source           source_type  source_class  \\\n",
       "0                spring                spring   groundwater   \n",
       "1  rainwater harvesting  rainwater harvesting       surface   \n",
       "2                   dam                   dam       surface   \n",
       "3           machine dbh              borehole   groundwater   \n",
       "4  rainwater harvesting  rainwater harvesting       surface   \n",
       "\n",
       "               waterpoint_type waterpoint_type_group  \n",
       "0           communal standpipe    communal standpipe  \n",
       "1           communal standpipe    communal standpipe  \n",
       "2  communal standpipe multiple    communal standpipe  \n",
       "3  communal standpipe multiple    communal standpipe  \n",
       "4           communal standpipe    communal standpipe  \n",
       "\n",
       "[5 rows x 40 columns]"
      ]
     },
     "execution_count": 6,
     "metadata": {},
     "output_type": "execute_result"
    }
   ],
   "source": [
    "train_x.head()"
   ]
  },
  {
   "cell_type": "code",
   "execution_count": 7,
   "metadata": {},
   "outputs": [
    {
     "data": {
      "text/plain": [
       "Index(['id', 'amount_tsh', 'date_recorded', 'funder', 'gps_height',\n",
       "       'installer', 'longitude', 'latitude', 'wpt_name', 'num_private',\n",
       "       'basin', 'subvillage', 'region', 'region_code', 'district_code', 'lga',\n",
       "       'ward', 'population', 'public_meeting', 'recorded_by',\n",
       "       'scheme_management', 'scheme_name', 'permit', 'construction_year',\n",
       "       'extraction_type', 'extraction_type_group', 'extraction_type_class',\n",
       "       'management', 'management_group', 'payment', 'payment_type',\n",
       "       'water_quality', 'quality_group', 'quantity', 'quantity_group',\n",
       "       'source', 'source_type', 'source_class', 'waterpoint_type',\n",
       "       'waterpoint_type_group'],\n",
       "      dtype='object')"
      ]
     },
     "execution_count": 7,
     "metadata": {},
     "output_type": "execute_result"
    }
   ],
   "source": [
    "train_x.columns"
   ]
  },
  {
   "cell_type": "markdown",
   "metadata": {},
   "source": [
    "Create a variable to keep track of required replacements"
   ]
  },
  {
   "cell_type": "code",
   "execution_count": 8,
   "metadata": {},
   "outputs": [],
   "source": [
    "repl = {}"
   ]
  },
  {
   "cell_type": "markdown",
   "metadata": {},
   "source": [
    "### Target Variable"
   ]
  },
  {
   "cell_type": "code",
   "execution_count": 9,
   "metadata": {},
   "outputs": [
    {
     "data": {
      "text/plain": [
       "<matplotlib.axes._subplots.AxesSubplot at 0x119258898>"
      ]
     },
     "execution_count": 9,
     "metadata": {},
     "output_type": "execute_result"
    },
    {
     "data": {
      "image/png": "[encoded data removed]",
      "text/plain": [
       "<Figure size 432x288 with 1 Axes>"
      ]
     },
     "metadata": {
      "needs_background": "light"
     },
     "output_type": "display_data"
    }
   ],
   "source": [
    "train_y.status_group.value_counts(dropna=False, normalize=True).plot(kind='bar')"
   ]
  },
  {
   "cell_type": "markdown",
   "metadata": {},
   "source": [
    "### Time Variables"
   ]
  },
  {
   "cell_type": "markdown",
   "metadata": {},
   "source": [
    "We have 2 datetime variables: date recorded and construction year"
   ]
  },
  {
   "cell_type": "code",
   "execution_count": 10,
   "metadata": {},
   "outputs": [],
   "source": [
    "train_x.date_recorded = pd.to_datetime(train_x.date_recorded, format=\"%Y-%m-%d\")"
   ]
  },
  {
   "cell_type": "code",
   "execution_count": 11,
   "metadata": {},
   "outputs": [
    {
     "data": {
      "text/plain": [
       "2011    28674\n",
       "2013    24271\n",
       "2012     6424\n",
       "2004       30\n",
       "2002        1\n",
       "Name: date_recorded, dtype: int64"
      ]
     },
     "execution_count": 11,
     "metadata": {},
     "output_type": "execute_result"
    }
   ],
   "source": [
    "train_x.date_recorded.dt.year.value_counts(dropna=False)"
   ]
  },
  {
   "cell_type": "code",
   "execution_count": 12,
   "metadata": {},
   "outputs": [
    {
     "data": {
      "text/plain": [
       "count    59400.000000\n",
       "mean      1300.652475\n",
       "std        951.620547\n",
       "min          0.000000\n",
       "25%          0.000000\n",
       "50%       1986.000000\n",
       "75%       2004.000000\n",
       "max       2013.000000\n",
       "Name: construction_year, dtype: float64"
      ]
     },
     "execution_count": 12,
     "metadata": {},
     "output_type": "execute_result"
    }
   ],
   "source": [
    "train_x.construction_year.describe()"
   ]
  },
  {
   "cell_type": "markdown",
   "metadata": {},
   "source": [
    "Set 0 values  in `construction_year` as missing"
   ]
  },
  {
   "cell_type": "code",
   "execution_count": 13,
   "metadata": {},
   "outputs": [],
   "source": [
    "repl['construction_year'] = {0: np.nan}"
   ]
  },
  {
   "cell_type": "code",
   "execution_count": 14,
   "metadata": {},
   "outputs": [],
   "source": [
    "train_x.construction_year = train_x.construction_year.replace({0: np.nan})"
   ]
  },
  {
   "cell_type": "code",
   "execution_count": 15,
   "metadata": {},
   "outputs": [
    {
     "data": {
      "text/plain": [
       "count    38691.000000\n",
       "mean      1996.814686\n",
       "std         12.472045\n",
       "min       1960.000000\n",
       "25%       1987.000000\n",
       "50%       2000.000000\n",
       "75%       2008.000000\n",
       "max       2013.000000\n",
       "Name: construction_year, dtype: float64"
      ]
     },
     "execution_count": 15,
     "metadata": {},
     "output_type": "execute_result"
    }
   ],
   "source": [
    "train_x.construction_year.describe()"
   ]
  },
  {
   "cell_type": "code",
   "execution_count": 16,
   "metadata": {},
   "outputs": [
    {
     "data": {
      "text/plain": [
       "<matplotlib.axes._subplots.AxesSubplot at 0x119f464e0>"
      ]
     },
     "execution_count": 16,
     "metadata": {},
     "output_type": "execute_result"
    },
    {
     "data": {
      "image/png": "[encoded data removed]",
      "text/plain": [
       "<Figure size 1080x360 with 1 Axes>"
      ]
     },
     "metadata": {
      "needs_background": "light"
     },
     "output_type": "display_data"
    }
   ],
   "source": [
    "train_x.construction_year.value_counts().sort_index().plot(kind='bar', figsize=(15,5))"
   ]
  },
  {
   "cell_type": "code",
   "execution_count": 17,
   "metadata": {},
   "outputs": [
    {
     "data": {
      "text/plain": [
       "0.34863636363636363"
      ]
     },
     "execution_count": 17,
     "metadata": {},
     "output_type": "execute_result"
    }
   ],
   "source": [
    "train_x.construction_year.isnull().mean()"
   ]
  },
  {
   "cell_type": "markdown",
   "metadata": {},
   "source": [
    "~ 34% of data for the year of construction is missing"
   ]
  },
  {
   "cell_type": "markdown",
   "metadata": {},
   "source": [
    "## Categorical variables"
   ]
  },
  {
   "cell_type": "code",
   "execution_count": 18,
   "metadata": {},
   "outputs": [
    {
     "data": {
      "text/plain": [
       "Index(['funder', 'installer', 'wpt_name', 'basin', 'subvillage', 'region',\n",
       "       'lga', 'ward', 'public_meeting', 'recorded_by', 'scheme_management',\n",
       "       'scheme_name', 'permit', 'extraction_type', 'extraction_type_group',\n",
       "       'extraction_type_class', 'management', 'management_group', 'payment',\n",
       "       'payment_type', 'water_quality', 'quality_group', 'quantity',\n",
       "       'quantity_group', 'source', 'source_type', 'source_class',\n",
       "       'waterpoint_type', 'waterpoint_type_group'],\n",
       "      dtype='object')"
      ]
     },
     "execution_count": 18,
     "metadata": {},
     "output_type": "execute_result"
    }
   ],
   "source": [
    "train_x.columns[train_x.dtypes == object]"
   ]
  },
  {
   "cell_type": "code",
   "execution_count": 19,
   "metadata": {},
   "outputs": [
    {
     "name": "stdout",
     "output_type": "stream",
     "text": [
      "---funder\n",
      "Government Of Tanzania            0.152929\n",
      "NaN                               0.061195\n",
      "Danida                            0.052424\n",
      "Hesawa                            0.037071\n",
      "Rwssp                             0.023131\n",
      "World Bank                        0.022710\n",
      "Kkkt                              0.021667\n",
      "World Vision                      0.020976\n",
      "Unicef                            0.017795\n",
      "Tasaf                             0.014764\n",
      "District Council                  0.014192\n",
      "Dhv                               0.013956\n",
      "Private Individual                0.013906\n",
      "Dwsp                              0.013653\n",
      "0                                 0.013081\n",
      "Norad                             0.012879\n",
      "Germany Republi                   0.010269\n",
      "Tcrs                              0.010135\n",
      "Ministry Of Water                 0.009933\n",
      "Water                             0.009815\n",
      "Dwe                               0.008148\n",
      "Netherlands                       0.007912\n",
      "Hifab                             0.007576\n",
      "Adb                               0.007542\n",
      "Lga                               0.007441\n",
      "Amref                             0.007155\n",
      "Fini Water                        0.006616\n",
      "Oxfam                             0.006044\n",
      "Wateraid                          0.005606\n",
      "Rc Church                         0.005404\n",
      "                                    ...   \n",
      "Frankfurt                         0.000017\n",
      "Mahita                            0.000017\n",
      "Igolola Community                 0.000017\n",
      "Matogoro                          0.000017\n",
      "Doner And Com                     0.000017\n",
      "Quick Wins Scheme                 0.000017\n",
      "Rotary Club Of Chico And Moshi    0.000017\n",
      "Silinda Yetu                      0.000017\n",
      "Mikumi G                          0.000017\n",
      "Eastmeru Medium School            0.000017\n",
      "Hesswa                            0.000017\n",
      "Prodap                            0.000017\n",
      "John Fund                         0.000017\n",
      "Kapelo                            0.000017\n",
      "Crs                               0.000017\n",
      "Cpar                              0.000017\n",
      "B.A.P                             0.000017\n",
      "Norad/government                  0.000017\n",
      "Robert Mosi                       0.000017\n",
      "Tansi                             0.000017\n",
      "Sumriy                            0.000017\n",
      "Piscop                            0.000017\n",
      "John Skwese                       0.000017\n",
      "Gdp                               0.000017\n",
      "Tanzania Journey                  0.000017\n",
      "Vwt                               0.000017\n",
      "Rotary Club Kitchener             0.000017\n",
      "Kwa Makala                        0.000017\n",
      "Marumbo Community                 0.000017\n",
      "Nordic                            0.000017\n",
      "Name: funder, Length: 1898, dtype: float64\n",
      "------------------------------------------------------------\n",
      "---installer\n",
      "DWE                    0.292963\n",
      "NaN                    0.061532\n",
      "Government             0.030724\n",
      "RWE                    0.020303\n",
      "Commu                  0.017845\n",
      "DANIDA                 0.017677\n",
      "KKKT                   0.015118\n",
      "Hesawa                 0.014141\n",
      "0                      0.013081\n",
      "TCRS                   0.011902\n",
      "Central government     0.010471\n",
      "CES                    0.010269\n",
      "Community              0.009310\n",
      "DANID                  0.009293\n",
      "District Council       0.009276\n",
      "HESAWA                 0.009074\n",
      "LGA                    0.006869\n",
      "World vision           0.006869\n",
      "WEDECO                 0.006684\n",
      "TASAF                  0.006667\n",
      "District council       0.006599\n",
      "Gover                  0.006448\n",
      "AMREF                  0.005539\n",
      "TWESA                  0.005320\n",
      "WU                     0.005067\n",
      "Dmdd                   0.004832\n",
      "ACRA                   0.004680\n",
      "World Vision           0.004545\n",
      "SEMA                   0.004192\n",
      "DW                     0.004141\n",
      "                         ...   \n",
      "Kibo potry             0.000017\n",
      "Ta                     0.000017\n",
      "Pentecost church       0.000017\n",
      "Rusumo Game reserve    0.000017\n",
      "DESK A                 0.000017\n",
      "Fin Water              0.000017\n",
      "Leopad Abeid           0.000017\n",
      "Mkulima                0.000017\n",
      "LUKE SAMARAS LTD       0.000017\n",
      "Word divisio           0.000017\n",
      "Tansi                  0.000017\n",
      "CALTAZ KAHAMA          0.000017\n",
      "IUCN                   0.000017\n",
      "Omari Mzee             0.000017\n",
      "JAPAN                  0.000017\n",
      "CH                     0.000017\n",
      "NYAHALE                0.000017\n",
      "WORLD NK               0.000017\n",
      "ODA                    0.000017\n",
      "Marumbo Community      0.000017\n",
      "Max Mbise              0.000017\n",
      "HesaWa                 0.000017\n",
      "Kapelo                 0.000017\n",
      "DW$                    0.000017\n",
      "KARUMBA BIULDIN        0.000017\n",
      "Usambala sisters       0.000017\n",
      "DWEB                   0.000017\n",
      "Icf                    0.000017\n",
      "OLOMOLOKI              0.000017\n",
      "Samweli                0.000017\n",
      "Name: installer, Length: 2146, dtype: float64\n",
      "------------------------------------------------------------\n",
      "---wpt_name\n",
      "none                        0.059983\n",
      "Shuleni                     0.029428\n",
      "Zahanati                    0.013973\n",
      "Msikitini                   0.009007\n",
      "Kanisani                    0.005438\n",
      "Bombani                     0.004562\n",
      "Sokoni                      0.004377\n",
      "Ofisini                     0.004276\n",
      "School                      0.003502\n",
      "Shule Ya Msingi             0.003350\n",
      "Shule                       0.002559\n",
      "Sekondari                   0.002458\n",
      "Muungano                    0.002239\n",
      "Mkombozi                    0.001869\n",
      "Madukani                    0.001751\n",
      "Hospital                    0.001582\n",
      "Mbugani                     0.001582\n",
      "Upendo                      0.001566\n",
      "Kituo Cha Afya              0.001515\n",
      "Mkuyuni                     0.001481\n",
      "Umoja                       0.001414\n",
      "Center                      0.001397\n",
      "Ccm                         0.001364\n",
      "Kisimani                    0.001313\n",
      "Mtakuja                     0.001279\n",
      "Ofisi Ya Kijiji             0.001279\n",
      "Tankini                     0.001229\n",
      "Bwawani                     0.001111\n",
      "Songambele                  0.001111\n",
      "Maendeleo                   0.001077\n",
      "                              ...   \n",
      "Giandae                     0.000017\n",
      "Amina Mnyamis               0.000017\n",
      "Kwa Mzee Musa Hamis         0.000017\n",
      "Kwa Rashid Kimaro           0.000017\n",
      "Kwa Wazir Kitumbo           0.000017\n",
      "Kalembo Primary             0.000017\n",
      "Memisa                      0.000017\n",
      "Itope                       0.000017\n",
      "Kwa Binti Swalehe           0.000017\n",
      "Kwa Mzee Mharo              0.000017\n",
      "Kwa Richard Kimaro          0.000017\n",
      "Kwa Yacob Isac              0.000017\n",
      "Kwa Musa Bayega             0.000017\n",
      "Godium Msangale             0.000017\n",
      "Kwa James Pangani           0.000017\n",
      "Mwigombe                    0.000017\n",
      "Sule                        0.000017\n",
      "Kwa Sammuel Tayai           0.000017\n",
      "Kiwanja Cha Mpira           0.000017\n",
      "Kwasemdoe                   0.000017\n",
      "Kwambogoya                  0.000017\n",
      "Kwa Alli Kajange            0.000017\n",
      "Kwa Kazinza                 0.000017\n",
      "Kwa Maramba                 0.000017\n",
      "Kwajogolo                   0.000017\n",
      "Shule Ya Sekondari Nyawa    0.000017\n",
      "Kwamjumuzi                  0.000017\n",
      "Mishee                      0.000017\n",
      "Ngondo                      0.000017\n",
      "Kwa Mzee Mpunduhi           0.000017\n",
      "Name: wpt_name, Length: 37400, dtype: float64\n",
      "------------------------------------------------------------\n",
      "---basin\n",
      "Lake Victoria              0.172525\n",
      "Pangani                    0.150505\n",
      "Rufiji                     0.134276\n",
      "Internal                   0.131061\n",
      "Lake Tanganyika            0.108283\n",
      "Wami / Ruvu                0.100791\n",
      "Lake Nyasa                 0.085606\n",
      "Ruvuma / Southern Coast    0.075640\n",
      "Lake Rukwa                 0.041313\n",
      "Name: basin, dtype: float64\n",
      "------------------------------------------------------------\n",
      "---subvillage\n",
      "Madukani       0.008552\n",
      "Shuleni        0.008519\n",
      "Majengo        0.008451\n",
      "Kati           0.006279\n",
      "NaN            0.006246\n",
      "Mtakuja        0.004411\n",
      "Sokoni         0.003906\n",
      "M              0.003148\n",
      "Muungano       0.002896\n",
      "Mbuyuni        0.002761\n",
      "Mlimani        0.002559\n",
      "Songambele     0.002475\n",
      "Miembeni       0.002256\n",
      "Msikitini      0.002256\n",
      "1              0.002222\n",
      "Kibaoni        0.001919\n",
      "Kanisani       0.001869\n",
      "Mapinduzi      0.001835\n",
      "I              0.001835\n",
      "Mjimwema       0.001818\n",
      "Mjini          0.001818\n",
      "Mkwajuni       0.001751\n",
      "Mwenge         0.001717\n",
      "Azimio         0.001650\n",
      "Mabatini       0.001650\n",
      "Mbugani        0.001599\n",
      "Mission        0.001599\n",
      "Bwawani        0.001532\n",
      "Bondeni        0.001515\n",
      "Chang'Ombe     0.001481\n",
      "                 ...   \n",
      "Losilo         0.000017\n",
      "Kwamnyaliva    0.000017\n",
      "Iboya          0.000017\n",
      "Nyang'Huba     0.000017\n",
      "Ringo          0.000017\n",
      "Mtalikwa       0.000017\n",
      "Barabara 3C    0.000017\n",
      "Kafwandi       0.000017\n",
      "Nkonze         0.000017\n",
      "Muruyange      0.000017\n",
      "Nybusalu       0.000017\n",
      "Bunoga         0.000017\n",
      "Kambarage A    0.000017\n",
      "Vichuguuni     0.000017\n",
      "Kirenyi        0.000017\n",
      "Igowombe       0.000017\n",
      "Nantaingwa     0.000017\n",
      "Bihashara      0.000017\n",
      "Nghendegese    0.000017\n",
      "Nyagwinyima    0.000017\n",
      "Ndelama        0.000017\n",
      "Kangaliga      0.000017\n",
      "Iraq           0.000017\n",
      "Moterugali     0.000017\n",
      "Ihwa           0.000017\n",
      "Mtwivila       0.000017\n",
      "Ngegema        0.000017\n",
      "Mfumbi         0.000017\n",
      "Kinyang'Ama    0.000017\n",
      "Gomahenji      0.000017\n",
      "Name: subvillage, Length: 19288, dtype: float64\n",
      "------------------------------------------------------------\n",
      "---region\n",
      "Iringa           0.089125\n",
      "Shinyanga        0.083872\n",
      "Mbeya            0.078098\n",
      "Kilimanjaro      0.073721\n",
      "Morogoro         0.067441\n",
      "Arusha           0.056397\n",
      "Kagera           0.055825\n",
      "Mwanza           0.052222\n",
      "Kigoma           0.047407\n",
      "Ruvuma           0.044444\n",
      "Pwani            0.044360\n",
      "Tanga            0.042879\n",
      "Dodoma           0.037054\n",
      "Singida          0.035236\n",
      "Mara             0.033148\n",
      "Tabora           0.032980\n",
      "Rukwa            0.030438\n",
      "Mtwara           0.029125\n",
      "Manyara          0.026650\n",
      "Lindi            0.026027\n",
      "Dar es Salaam    0.013552\n",
      "Name: region, dtype: float64\n",
      "------------------------------------------------------------\n",
      "---lga\n",
      "Njombe              0.042138\n",
      "Arusha Rural        0.021077\n",
      "Moshi Rural         0.021061\n",
      "Bariadi             0.019815\n",
      "Rungwe              0.018620\n",
      "Kilosa              0.018418\n",
      "Kasulu              0.017626\n",
      "Mbozi               0.017407\n",
      "Meru                0.016987\n",
      "Bagamoyo            0.016785\n",
      "Singida Rural       0.016751\n",
      "Kilombero           0.016145\n",
      "Same                0.014764\n",
      "Kibondo             0.014714\n",
      "Kyela               0.014461\n",
      "Kahama              0.014074\n",
      "Kigoma Rural        0.013872\n",
      "Magu                0.013872\n",
      "Maswa               0.013620\n",
      "Karagwe             0.012980\n",
      "Mbinga              0.012626\n",
      "Iringa Rural        0.012256\n",
      "Serengeti           0.012054\n",
      "Namtumbo            0.011684\n",
      "Lushoto             0.011684\n",
      "Songea Rural        0.011667\n",
      "Mpanda              0.011431\n",
      "Mvomero             0.011296\n",
      "Ngara               0.011263\n",
      "Ulanga              0.011195\n",
      "                      ...   \n",
      "Newala              0.003889\n",
      "Bahi                0.003771\n",
      "Kisarawe            0.003754\n",
      "Temeke              0.003620\n",
      "Rorya               0.003535\n",
      "Tarime              0.003519\n",
      "Ngorongoro          0.003384\n",
      "Kiteto              0.003249\n",
      "Shinyanga Urban     0.003215\n",
      "Monduli             0.003182\n",
      "Sumbawanga Urban    0.003030\n",
      "Singida Urban       0.002980\n",
      "Sikonge             0.002862\n",
      "Kilindi             0.002710\n",
      "Nanyumbu            0.002660\n",
      "Tabora Urban        0.002609\n",
      "Liwale              0.002593\n",
      "Ilemela             0.002391\n",
      "Mafia               0.002222\n",
      "Mtwara Urban        0.002088\n",
      "Tanga               0.001667\n",
      "Morogoro Urban      0.001616\n",
      "Kinondoni           0.001566\n",
      "Bukoba Urban        0.001481\n",
      "Songea Urban        0.001347\n",
      "Moshi Urban         0.001330\n",
      "Kigoma Urban        0.001195\n",
      "Arusha Urban        0.001061\n",
      "Lindi Urban         0.000354\n",
      "Nyamagana           0.000017\n",
      "Name: lga, Length: 125, dtype: float64\n",
      "------------------------------------------------------------\n",
      "---ward\n",
      "Igosi               0.005168\n",
      "Imalinyi            0.004242\n",
      "Siha Kati           0.003906\n",
      "Mdandu              0.003889\n",
      "Nduruma             0.003653\n",
      "Mishamo             0.003418\n",
      "Kitunda             0.003418\n",
      "Msindo              0.003384\n",
      "Chalinze            0.003300\n",
      "Maji ya Chai        0.003199\n",
      "Usuka               0.003148\n",
      "Ngarenanyuki        0.002896\n",
      "Chanika             0.002879\n",
      "Vikindu             0.002727\n",
      "Mtwango             0.002576\n",
      "Matola              0.002441\n",
      "Zinga/Ikerege       0.002374\n",
      "Wanging'ombe        0.002340\n",
      "Maramba             0.002340\n",
      "Itete               0.002306\n",
      "Magomeni            0.002273\n",
      "Ifakara             0.002256\n",
      "Kikatiti            0.002256\n",
      "Olkokola            0.002239\n",
      "Maposeni            0.002189\n",
      "Mvomero             0.002172\n",
      "Igongolo            0.002172\n",
      "Mlangali            0.002104\n",
      "Nkoma               0.002054\n",
      "Nkungulu            0.002037\n",
      "                      ...   \n",
      "Mawenzi             0.000017\n",
      "Thawi               0.000017\n",
      "Linda               0.000017\n",
      "Ikweha              0.000017\n",
      "Kihangimahuka       0.000017\n",
      "Uchindile           0.000017\n",
      "Rasbura             0.000017\n",
      "Kirongo             0.000017\n",
      "Machinjioni         0.000017\n",
      "Sungwisi            0.000017\n",
      "Korongoni           0.000017\n",
      "Izia                0.000017\n",
      "Burungura           0.000017\n",
      "Matarawe            0.000017\n",
      "Kinungu             0.000017\n",
      "Ifinga              0.000017\n",
      "Mwanga Kaskazini    0.000017\n",
      "Kapilula            0.000017\n",
      "Mitole              0.000017\n",
      "Igogo               0.000017\n",
      "Themi               0.000017\n",
      "Mlimani             0.000017\n",
      "Nsemulwa            0.000017\n",
      "Simbay              0.000017\n",
      "Ukata               0.000017\n",
      "Mkumbi              0.000017\n",
      "Kitete              0.000017\n",
      "Uwanja wa Ndege     0.000017\n",
      "Chinugulu           0.000017\n",
      "Nyamtinga           0.000017\n",
      "Name: ward, Length: 2092, dtype: float64\n",
      "------------------------------------------------------------\n",
      "---public_meeting\n",
      "True     0.858771\n",
      "False    0.085101\n",
      "NaN      0.056128\n",
      "Name: public_meeting, dtype: float64\n",
      "------------------------------------------------------------\n",
      "---recorded_by\n",
      "GeoData Consultants Ltd    1.0\n",
      "Name: recorded_by, dtype: float64\n",
      "------------------------------------------------------------\n",
      "---scheme_management\n",
      "VWC                 0.619411\n",
      "WUG                 0.087643\n",
      "NaN                 0.065269\n",
      "Water authority     0.053081\n",
      "WUA                 0.048535\n",
      "Water Board         0.046263\n",
      "Parastatal          0.028283\n",
      "Private operator    0.017896\n",
      "Company             0.017862\n",
      "Other               0.012896\n",
      "SWC                 0.001633\n",
      "Trust               0.001212\n",
      "None                0.000017\n",
      "Name: scheme_management, dtype: float64\n",
      "------------------------------------------------------------\n",
      "---scheme_name\n",
      "NaN                                             0.474175\n",
      "K                                               0.011481\n",
      "None                                            0.010842\n",
      "Borehole                                        0.009192\n",
      "Chalinze wate                                   0.006818\n",
      "M                                               0.006734\n",
      "DANIDA                                          0.006380\n",
      "Government                                      0.005387\n",
      "Ngana water supplied scheme                     0.004545\n",
      "wanging'ombe water supply s                     0.004394\n",
      "wanging'ombe supply scheme                      0.003939\n",
      "Bagamoyo wate                                   0.003855\n",
      "I                                               0.003855\n",
      "Uroki-Bomang'ombe water sup                     0.003519\n",
      "N                                               0.003434\n",
      "Kirua kahe gravity water supply trust           0.003249\n",
      "Machumba estate pipe line                       0.003114\n",
      "Makwale water supplied sche                     0.002795\n",
      "Kijiji                                          0.002710\n",
      "S                                               0.002593\n",
      "mtwango water supply scheme                     0.002559\n",
      "Losaa-Kia water supply                          0.002559\n",
      "Handeni Trunk Main(H                            0.002559\n",
      "Mkongoro Two                                    0.002475\n",
      "Roman                                           0.002340\n",
      "Mkongoro One                                    0.002155\n",
      "Maambreni gravity water supply                  0.002104\n",
      "Lyamungo umbwe water supply                     0.002020\n",
      "Kirua kahe pumping water trust                  0.001902\n",
      "Nabaiye pipe line                               0.001801\n",
      "                                                  ...   \n",
      "Kifaru Water Supply                             0.000017\n",
      "Mwamashele water piped scheme                   0.000017\n",
      "Nyabibuye                                       0.000017\n",
      "Forforo water supply                            0.000017\n",
      "Mahunguru                                       0.000017\n",
      "Kirachi water supply                            0.000017\n",
      "Lashumbai water scheme                          0.000017\n",
      "Nyakayenzi gravity point source water supply    0.000017\n",
      "BL Eligudi                                      0.000017\n",
      "Pwani water supply (Ruvu)                       0.000017\n",
      "Tove-mtwango                                    0.000017\n",
      "Individuals                                     0.000017\n",
      "Imbaseny gravity water supply                   0.000017\n",
      "World Bank Water Project                        0.000017\n",
      "Mradi wa maji wa maji sikonge                   0.000017\n",
      "Kwawameku water suply                           0.000017\n",
      "Kizota                                          0.000017\n",
      "water supply Katungulu                          0.000017\n",
      "Borehole pump pumped scheme                     0.000017\n",
      "WD                                              0.000017\n",
      "Madimba water supply                            0.000017\n",
      "Mrangamiza spring source                        0.000017\n",
      "Ntyu                                            0.000017\n",
      "Tank fu Mwenge                                  0.000017\n",
      "Bl Aziz water supply                            0.000017\n",
      "Mbatakero mradi wa Maji shu                     0.000017\n",
      "Tina                                            0.000017\n",
      "Kirwa  water suply                              0.000017\n",
      "BL Kilimasimba                                  0.000017\n",
      "Mtumbei mpopera                                 0.000017\n",
      "Name: scheme_name, Length: 2697, dtype: float64\n",
      "------------------------------------------------------------\n",
      "---permit\n",
      "True     0.654074\n",
      "False    0.294478\n",
      "NaN      0.051448\n",
      "Name: permit, dtype: float64\n",
      "------------------------------------------------------------\n",
      "---extraction_type\n",
      "gravity                      0.450842\n",
      "nira/tanira                  0.137273\n",
      "other                        0.108249\n",
      "submersible                  0.080202\n",
      "swn 80                       0.061785\n",
      "mono                         0.048232\n",
      "india mark ii                0.040404\n",
      "afridev                      0.029798\n",
      "ksb                          0.023822\n",
      "other - rope pump            0.007593\n",
      "other - swn 81               0.003855\n",
      "windmill                     0.001970\n",
      "india mark iii               0.001650\n",
      "cemo                         0.001515\n",
      "other - play pump            0.001431\n",
      "walimi                       0.000808\n",
      "climax                       0.000539\n",
      "other - mkulima/shinyanga    0.000034\n",
      "Name: extraction_type, dtype: float64\n",
      "------------------------------------------------------------\n",
      "---extraction_type_group\n"
     ]
    },
    {
     "name": "stdout",
     "output_type": "stream",
     "text": [
      "gravity            0.450842\n",
      "nira/tanira        0.137273\n",
      "other              0.108249\n",
      "submersible        0.104024\n",
      "swn 80             0.061785\n",
      "mono               0.048232\n",
      "india mark ii      0.040404\n",
      "afridev            0.029798\n",
      "rope pump          0.007593\n",
      "other handpump     0.006128\n",
      "other motorpump    0.002054\n",
      "wind-powered       0.001970\n",
      "india mark iii     0.001650\n",
      "Name: extraction_type_group, dtype: float64\n",
      "------------------------------------------------------------\n",
      "---extraction_type_class\n",
      "gravity         0.450842\n",
      "handpump        0.277037\n",
      "other           0.108249\n",
      "submersible     0.104024\n",
      "motorpump       0.050286\n",
      "rope pump       0.007593\n",
      "wind-powered    0.001970\n",
      "Name: extraction_type_class, dtype: float64\n",
      "------------------------------------------------------------\n",
      "---management\n",
      "vwc                 0.681936\n",
      "wug                 0.109680\n",
      "water board         0.049377\n",
      "wua                 0.042677\n",
      "private operator    0.033182\n",
      "parastatal          0.029764\n",
      "water authority     0.015219\n",
      "other               0.014209\n",
      "company             0.011532\n",
      "unknown             0.009444\n",
      "other - school      0.001667\n",
      "trust               0.001313\n",
      "Name: management, dtype: float64\n",
      "------------------------------------------------------------\n",
      "---management_group\n",
      "user-group    0.883670\n",
      "commercial    0.061246\n",
      "parastatal    0.029764\n",
      "other         0.015875\n",
      "unknown       0.009444\n",
      "Name: management_group, dtype: float64\n",
      "------------------------------------------------------------\n",
      "---payment\n",
      "never pay                0.426734\n",
      "pay per bucket           0.151263\n",
      "pay monthly              0.139731\n",
      "unknown                  0.137323\n",
      "pay when scheme fails    0.065892\n",
      "pay annually             0.061313\n",
      "other                    0.017744\n",
      "Name: payment, dtype: float64\n",
      "------------------------------------------------------------\n",
      "---payment_type\n",
      "never pay     0.426734\n",
      "per bucket    0.151263\n",
      "monthly       0.139731\n",
      "unknown       0.137323\n",
      "on failure    0.065892\n",
      "annually      0.061313\n",
      "other         0.017744\n",
      "Name: payment_type, dtype: float64\n",
      "------------------------------------------------------------\n",
      "---water_quality\n",
      "soft                  0.855522\n",
      "salty                 0.081751\n",
      "unknown               0.031582\n",
      "milky                 0.013535\n",
      "coloured              0.008249\n",
      "salty abandoned       0.005707\n",
      "fluoride              0.003367\n",
      "fluoride abandoned    0.000286\n",
      "Name: water_quality, dtype: float64\n",
      "------------------------------------------------------------\n",
      "---quality_group\n",
      "good        0.855522\n",
      "salty       0.087458\n",
      "unknown     0.031582\n",
      "milky       0.013535\n",
      "colored     0.008249\n",
      "fluoride    0.003653\n",
      "Name: quality_group, dtype: float64\n",
      "------------------------------------------------------------\n",
      "---quantity\n",
      "enough          0.558687\n",
      "insufficient    0.254697\n",
      "dry             0.105152\n",
      "seasonal        0.068182\n",
      "unknown         0.013283\n",
      "Name: quantity, dtype: float64\n",
      "------------------------------------------------------------\n",
      "---quantity_group\n",
      "enough          0.558687\n",
      "insufficient    0.254697\n",
      "dry             0.105152\n",
      "seasonal        0.068182\n",
      "unknown         0.013283\n",
      "Name: quantity_group, dtype: float64\n",
      "------------------------------------------------------------\n",
      "---source\n",
      "spring                  0.286549\n",
      "shallow well            0.283232\n",
      "machine dbh             0.186448\n",
      "river                   0.161818\n",
      "rainwater harvesting    0.038636\n",
      "hand dtw                0.014714\n",
      "lake                    0.012879\n",
      "dam                     0.011044\n",
      "other                   0.003569\n",
      "unknown                 0.001111\n",
      "Name: source, dtype: float64\n",
      "------------------------------------------------------------\n",
      "---source_type\n",
      "spring                  0.286549\n",
      "shallow well            0.283232\n",
      "borehole                0.201162\n",
      "river/lake              0.174697\n",
      "rainwater harvesting    0.038636\n",
      "dam                     0.011044\n",
      "other                   0.004680\n",
      "Name: source_type, dtype: float64\n",
      "------------------------------------------------------------\n",
      "---source_class\n",
      "groundwater    0.770943\n",
      "surface        0.224377\n",
      "unknown        0.004680\n",
      "Name: source_class, dtype: float64\n",
      "------------------------------------------------------------\n",
      "---waterpoint_type\n",
      "communal standpipe             0.480168\n",
      "hand pump                      0.294411\n",
      "other                          0.107407\n",
      "communal standpipe multiple    0.102744\n",
      "improved spring                0.013199\n",
      "cattle trough                  0.001953\n",
      "dam                            0.000118\n",
      "Name: waterpoint_type, dtype: float64\n",
      "------------------------------------------------------------\n",
      "---waterpoint_type_group\n",
      "communal standpipe    0.582912\n",
      "hand pump             0.294411\n",
      "other                 0.107407\n",
      "improved spring       0.013199\n",
      "cattle trough         0.001953\n",
      "dam                   0.000118\n",
      "Name: waterpoint_type_group, dtype: float64\n",
      "------------------------------------------------------------\n"
     ]
    }
   ],
   "source": [
    "for c in train_x.columns[train_x.dtypes == object]:\n",
    "    print(\"---\" + c)\n",
    "    print(train_x[c].value_counts(dropna=False, normalize=True) )\n",
    "    print(\"-\"*60)"
   ]
  },
  {
   "cell_type": "markdown",
   "metadata": {},
   "source": [
    "### Overview of categorical features"
   ]
  },
  {
   "cell_type": "code",
   "execution_count": 20,
   "metadata": {},
   "outputs": [],
   "source": [
    "exclude = []"
   ]
  },
  {
   "cell_type": "code",
   "execution_count": 21,
   "metadata": {},
   "outputs": [
    {
     "data": {
      "text/plain": [
       "Index(['funder', 'installer', 'wpt_name', 'basin', 'subvillage', 'region',\n",
       "       'lga', 'ward', 'public_meeting', 'recorded_by', 'scheme_management',\n",
       "       'scheme_name', 'permit', 'extraction_type', 'extraction_type_group',\n",
       "       'extraction_type_class', 'management', 'management_group', 'payment',\n",
       "       'payment_type', 'water_quality', 'quality_group', 'quantity',\n",
       "       'quantity_group', 'source', 'source_type', 'source_class',\n",
       "       'waterpoint_type', 'waterpoint_type_group'],\n",
       "      dtype='object')"
      ]
     },
     "execution_count": 21,
     "metadata": {},
     "output_type": "execute_result"
    }
   ],
   "source": [
    "train_x.columns[train_x.dtypes == object]"
   ]
  },
  {
   "cell_type": "code",
   "execution_count": 22,
   "metadata": {},
   "outputs": [
    {
     "data": {
      "text/html": [
       "<div>\n",
       "<style scoped>\n",
       "    .dataframe tbody tr th:only-of-type {\n",
       "        vertical-align: middle;\n",
       "    }\n",
       "\n",
       "    .dataframe tbody tr th {\n",
       "        vertical-align: top;\n",
       "    }\n",
       "\n",
       "    .dataframe thead th {\n",
       "        text-align: right;\n",
       "    }\n",
       "</style>\n",
       "<table border=\"1\" class=\"dataframe\">\n",
       "  <thead>\n",
       "    <tr style=\"text-align: right;\">\n",
       "      <th></th>\n",
       "      <th>count</th>\n",
       "      <th>unique</th>\n",
       "      <th>top</th>\n",
       "      <th>perc missing</th>\n",
       "    </tr>\n",
       "  </thead>\n",
       "  <tbody>\n",
       "    <tr>\n",
       "      <th>wpt_name</th>\n",
       "      <td>59400</td>\n",
       "      <td>37400</td>\n",
       "      <td>none</td>\n",
       "      <td>0</td>\n",
       "    </tr>\n",
       "    <tr>\n",
       "      <th>subvillage</th>\n",
       "      <td>59029</td>\n",
       "      <td>19287</td>\n",
       "      <td>Madukani</td>\n",
       "      <td>0.624579</td>\n",
       "    </tr>\n",
       "    <tr>\n",
       "      <th>scheme_name</th>\n",
       "      <td>31234</td>\n",
       "      <td>2696</td>\n",
       "      <td>K</td>\n",
       "      <td>47.4175</td>\n",
       "    </tr>\n",
       "    <tr>\n",
       "      <th>installer</th>\n",
       "      <td>55745</td>\n",
       "      <td>2145</td>\n",
       "      <td>DWE</td>\n",
       "      <td>6.1532</td>\n",
       "    </tr>\n",
       "    <tr>\n",
       "      <th>ward</th>\n",
       "      <td>59400</td>\n",
       "      <td>2092</td>\n",
       "      <td>Igosi</td>\n",
       "      <td>0</td>\n",
       "    </tr>\n",
       "    <tr>\n",
       "      <th>funder</th>\n",
       "      <td>55765</td>\n",
       "      <td>1897</td>\n",
       "      <td>Government Of Tanzania</td>\n",
       "      <td>6.11953</td>\n",
       "    </tr>\n",
       "    <tr>\n",
       "      <th>lga</th>\n",
       "      <td>59400</td>\n",
       "      <td>125</td>\n",
       "      <td>Njombe</td>\n",
       "      <td>0</td>\n",
       "    </tr>\n",
       "    <tr>\n",
       "      <th>region</th>\n",
       "      <td>59400</td>\n",
       "      <td>21</td>\n",
       "      <td>Iringa</td>\n",
       "      <td>0</td>\n",
       "    </tr>\n",
       "    <tr>\n",
       "      <th>extraction_type</th>\n",
       "      <td>59400</td>\n",
       "      <td>18</td>\n",
       "      <td>gravity</td>\n",
       "      <td>0</td>\n",
       "    </tr>\n",
       "    <tr>\n",
       "      <th>extraction_type_group</th>\n",
       "      <td>59400</td>\n",
       "      <td>13</td>\n",
       "      <td>gravity</td>\n",
       "      <td>0</td>\n",
       "    </tr>\n",
       "    <tr>\n",
       "      <th>scheme_management</th>\n",
       "      <td>55523</td>\n",
       "      <td>12</td>\n",
       "      <td>VWC</td>\n",
       "      <td>6.52694</td>\n",
       "    </tr>\n",
       "    <tr>\n",
       "      <th>management</th>\n",
       "      <td>59400</td>\n",
       "      <td>12</td>\n",
       "      <td>vwc</td>\n",
       "      <td>0</td>\n",
       "    </tr>\n",
       "    <tr>\n",
       "      <th>source</th>\n",
       "      <td>59400</td>\n",
       "      <td>10</td>\n",
       "      <td>spring</td>\n",
       "      <td>0</td>\n",
       "    </tr>\n",
       "    <tr>\n",
       "      <th>basin</th>\n",
       "      <td>59400</td>\n",
       "      <td>9</td>\n",
       "      <td>Lake Victoria</td>\n",
       "      <td>0</td>\n",
       "    </tr>\n",
       "    <tr>\n",
       "      <th>water_quality</th>\n",
       "      <td>59400</td>\n",
       "      <td>8</td>\n",
       "      <td>soft</td>\n",
       "      <td>0</td>\n",
       "    </tr>\n",
       "    <tr>\n",
       "      <th>payment</th>\n",
       "      <td>59400</td>\n",
       "      <td>7</td>\n",
       "      <td>never pay</td>\n",
       "      <td>0</td>\n",
       "    </tr>\n",
       "    <tr>\n",
       "      <th>waterpoint_type</th>\n",
       "      <td>59400</td>\n",
       "      <td>7</td>\n",
       "      <td>communal standpipe</td>\n",
       "      <td>0</td>\n",
       "    </tr>\n",
       "    <tr>\n",
       "      <th>source_type</th>\n",
       "      <td>59400</td>\n",
       "      <td>7</td>\n",
       "      <td>spring</td>\n",
       "      <td>0</td>\n",
       "    </tr>\n",
       "    <tr>\n",
       "      <th>payment_type</th>\n",
       "      <td>59400</td>\n",
       "      <td>7</td>\n",
       "      <td>never pay</td>\n",
       "      <td>0</td>\n",
       "    </tr>\n",
       "    <tr>\n",
       "      <th>extraction_type_class</th>\n",
       "      <td>59400</td>\n",
       "      <td>7</td>\n",
       "      <td>gravity</td>\n",
       "      <td>0</td>\n",
       "    </tr>\n",
       "    <tr>\n",
       "      <th>quality_group</th>\n",
       "      <td>59400</td>\n",
       "      <td>6</td>\n",
       "      <td>good</td>\n",
       "      <td>0</td>\n",
       "    </tr>\n",
       "    <tr>\n",
       "      <th>waterpoint_type_group</th>\n",
       "      <td>59400</td>\n",
       "      <td>6</td>\n",
       "      <td>communal standpipe</td>\n",
       "      <td>0</td>\n",
       "    </tr>\n",
       "    <tr>\n",
       "      <th>management_group</th>\n",
       "      <td>59400</td>\n",
       "      <td>5</td>\n",
       "      <td>user-group</td>\n",
       "      <td>0</td>\n",
       "    </tr>\n",
       "    <tr>\n",
       "      <th>quantity</th>\n",
       "      <td>59400</td>\n",
       "      <td>5</td>\n",
       "      <td>enough</td>\n",
       "      <td>0</td>\n",
       "    </tr>\n",
       "    <tr>\n",
       "      <th>quantity_group</th>\n",
       "      <td>59400</td>\n",
       "      <td>5</td>\n",
       "      <td>enough</td>\n",
       "      <td>0</td>\n",
       "    </tr>\n",
       "    <tr>\n",
       "      <th>source_class</th>\n",
       "      <td>59400</td>\n",
       "      <td>3</td>\n",
       "      <td>groundwater</td>\n",
       "      <td>0</td>\n",
       "    </tr>\n",
       "    <tr>\n",
       "      <th>public_meeting</th>\n",
       "      <td>56066</td>\n",
       "      <td>2</td>\n",
       "      <td>True</td>\n",
       "      <td>5.61279</td>\n",
       "    </tr>\n",
       "    <tr>\n",
       "      <th>permit</th>\n",
       "      <td>56344</td>\n",
       "      <td>2</td>\n",
       "      <td>True</td>\n",
       "      <td>5.14478</td>\n",
       "    </tr>\n",
       "    <tr>\n",
       "      <th>recorded_by</th>\n",
       "      <td>59400</td>\n",
       "      <td>1</td>\n",
       "      <td>GeoData Consultants Ltd</td>\n",
       "      <td>0</td>\n",
       "    </tr>\n",
       "  </tbody>\n",
       "</table>\n",
       "</div>"
      ],
      "text/plain": [
       "                       count unique                      top perc missing\n",
       "wpt_name               59400  37400                     none            0\n",
       "subvillage             59029  19287                 Madukani     0.624579\n",
       "scheme_name            31234   2696                        K      47.4175\n",
       "installer              55745   2145                      DWE       6.1532\n",
       "ward                   59400   2092                    Igosi            0\n",
       "funder                 55765   1897   Government Of Tanzania      6.11953\n",
       "lga                    59400    125                   Njombe            0\n",
       "region                 59400     21                   Iringa            0\n",
       "extraction_type        59400     18                  gravity            0\n",
       "extraction_type_group  59400     13                  gravity            0\n",
       "scheme_management      55523     12                      VWC      6.52694\n",
       "management             59400     12                      vwc            0\n",
       "source                 59400     10                   spring            0\n",
       "basin                  59400      9            Lake Victoria            0\n",
       "water_quality          59400      8                     soft            0\n",
       "payment                59400      7                never pay            0\n",
       "waterpoint_type        59400      7       communal standpipe            0\n",
       "source_type            59400      7                   spring            0\n",
       "payment_type           59400      7                never pay            0\n",
       "extraction_type_class  59400      7                  gravity            0\n",
       "quality_group          59400      6                     good            0\n",
       "waterpoint_type_group  59400      6       communal standpipe            0\n",
       "management_group       59400      5               user-group            0\n",
       "quantity               59400      5                   enough            0\n",
       "quantity_group         59400      5                   enough            0\n",
       "source_class           59400      3              groundwater            0\n",
       "public_meeting         56066      2                     True      5.61279\n",
       "permit                 56344      2                     True      5.14478\n",
       "recorded_by            59400      1  GeoData Consultants Ltd            0"
      ]
     },
     "execution_count": 22,
     "metadata": {},
     "output_type": "execute_result"
    }
   ],
   "source": [
    "cat_features = train_x.columns[train_x.dtypes == object]\n",
    "cat_desc = train_x[cat_features].describe(include='all').transpose()[['count', 'unique', 'top']]\n",
    "cat_desc[\"perc missing\"] = (1 - cat_desc[\"count\"]/train_x.shape[0]) * 100\n",
    "cat_desc.sort_values('unique', ascending=False)"
   ]
  },
  {
   "cell_type": "markdown",
   "metadata": {},
   "source": [
    "For now we will exclude columns with too many categories > 1000"
   ]
  },
  {
   "cell_type": "code",
   "execution_count": 23,
   "metadata": {},
   "outputs": [],
   "source": [
    "exclude.extend(cat_desc.query('unique>1000').index)"
   ]
  },
  {
   "cell_type": "code",
   "execution_count": 24,
   "metadata": {},
   "outputs": [
    {
     "data": {
      "text/plain": [
       "['funder', 'installer', 'wpt_name', 'subvillage', 'ward', 'scheme_name']"
      ]
     },
     "execution_count": 24,
     "metadata": {},
     "output_type": "execute_result"
    }
   ],
   "source": [
    "exclude"
   ]
  },
  {
   "cell_type": "code",
   "execution_count": 25,
   "metadata": {},
   "outputs": [],
   "source": [
    "repl['scheme_management'] = {'None': np.nan}"
   ]
  },
  {
   "cell_type": "markdown",
   "metadata": {},
   "source": [
    "## Continious Variables"
   ]
  },
  {
   "cell_type": "code",
   "execution_count": 26,
   "metadata": {},
   "outputs": [
    {
     "data": {
      "text/html": [
       "<div>\n",
       "<style scoped>\n",
       "    .dataframe tbody tr th:only-of-type {\n",
       "        vertical-align: middle;\n",
       "    }\n",
       "\n",
       "    .dataframe tbody tr th {\n",
       "        vertical-align: top;\n",
       "    }\n",
       "\n",
       "    .dataframe thead th {\n",
       "        text-align: right;\n",
       "    }\n",
       "</style>\n",
       "<table border=\"1\" class=\"dataframe\">\n",
       "  <thead>\n",
       "    <tr style=\"text-align: right;\">\n",
       "      <th></th>\n",
       "      <th>amount_tsh</th>\n",
       "      <th>gps_height</th>\n",
       "      <th>longitude</th>\n",
       "      <th>latitude</th>\n",
       "      <th>num_private</th>\n",
       "      <th>region_code</th>\n",
       "      <th>district_code</th>\n",
       "      <th>population</th>\n",
       "      <th>construction_year</th>\n",
       "    </tr>\n",
       "  </thead>\n",
       "  <tbody>\n",
       "    <tr>\n",
       "      <th>count</th>\n",
       "      <td>59400.000000</td>\n",
       "      <td>59400.000000</td>\n",
       "      <td>59400.000000</td>\n",
       "      <td>5.940000e+04</td>\n",
       "      <td>59400.000000</td>\n",
       "      <td>59400.000000</td>\n",
       "      <td>59400.000000</td>\n",
       "      <td>59400.000000</td>\n",
       "      <td>38691.000000</td>\n",
       "    </tr>\n",
       "    <tr>\n",
       "      <th>mean</th>\n",
       "      <td>317.650385</td>\n",
       "      <td>668.297239</td>\n",
       "      <td>34.077427</td>\n",
       "      <td>-5.706033e+00</td>\n",
       "      <td>0.474141</td>\n",
       "      <td>15.297003</td>\n",
       "      <td>5.629747</td>\n",
       "      <td>179.909983</td>\n",
       "      <td>1996.814686</td>\n",
       "    </tr>\n",
       "    <tr>\n",
       "      <th>std</th>\n",
       "      <td>2997.574558</td>\n",
       "      <td>693.116350</td>\n",
       "      <td>6.567432</td>\n",
       "      <td>2.946019e+00</td>\n",
       "      <td>12.236230</td>\n",
       "      <td>17.587406</td>\n",
       "      <td>9.633649</td>\n",
       "      <td>471.482176</td>\n",
       "      <td>12.472045</td>\n",
       "    </tr>\n",
       "    <tr>\n",
       "      <th>min</th>\n",
       "      <td>0.000000</td>\n",
       "      <td>-90.000000</td>\n",
       "      <td>0.000000</td>\n",
       "      <td>-1.164944e+01</td>\n",
       "      <td>0.000000</td>\n",
       "      <td>1.000000</td>\n",
       "      <td>0.000000</td>\n",
       "      <td>0.000000</td>\n",
       "      <td>1960.000000</td>\n",
       "    </tr>\n",
       "    <tr>\n",
       "      <th>25%</th>\n",
       "      <td>0.000000</td>\n",
       "      <td>0.000000</td>\n",
       "      <td>33.090347</td>\n",
       "      <td>-8.540621e+00</td>\n",
       "      <td>0.000000</td>\n",
       "      <td>5.000000</td>\n",
       "      <td>2.000000</td>\n",
       "      <td>0.000000</td>\n",
       "      <td>1987.000000</td>\n",
       "    </tr>\n",
       "    <tr>\n",
       "      <th>50%</th>\n",
       "      <td>0.000000</td>\n",
       "      <td>369.000000</td>\n",
       "      <td>34.908743</td>\n",
       "      <td>-5.021597e+00</td>\n",
       "      <td>0.000000</td>\n",
       "      <td>12.000000</td>\n",
       "      <td>3.000000</td>\n",
       "      <td>25.000000</td>\n",
       "      <td>2000.000000</td>\n",
       "    </tr>\n",
       "    <tr>\n",
       "      <th>75%</th>\n",
       "      <td>20.000000</td>\n",
       "      <td>1319.250000</td>\n",
       "      <td>37.178387</td>\n",
       "      <td>-3.326156e+00</td>\n",
       "      <td>0.000000</td>\n",
       "      <td>17.000000</td>\n",
       "      <td>5.000000</td>\n",
       "      <td>215.000000</td>\n",
       "      <td>2008.000000</td>\n",
       "    </tr>\n",
       "    <tr>\n",
       "      <th>max</th>\n",
       "      <td>350000.000000</td>\n",
       "      <td>2770.000000</td>\n",
       "      <td>40.345193</td>\n",
       "      <td>-2.000000e-08</td>\n",
       "      <td>1776.000000</td>\n",
       "      <td>99.000000</td>\n",
       "      <td>80.000000</td>\n",
       "      <td>30500.000000</td>\n",
       "      <td>2013.000000</td>\n",
       "    </tr>\n",
       "  </tbody>\n",
       "</table>\n",
       "</div>"
      ],
      "text/plain": [
       "          amount_tsh    gps_height     longitude      latitude   num_private  \\\n",
       "count   59400.000000  59400.000000  59400.000000  5.940000e+04  59400.000000   \n",
       "mean      317.650385    668.297239     34.077427 -5.706033e+00      0.474141   \n",
       "std      2997.574558    693.116350      6.567432  2.946019e+00     12.236230   \n",
       "min         0.000000    -90.000000      0.000000 -1.164944e+01      0.000000   \n",
       "25%         0.000000      0.000000     33.090347 -8.540621e+00      0.000000   \n",
       "50%         0.000000    369.000000     34.908743 -5.021597e+00      0.000000   \n",
       "75%        20.000000   1319.250000     37.178387 -3.326156e+00      0.000000   \n",
       "max    350000.000000   2770.000000     40.345193 -2.000000e-08   1776.000000   \n",
       "\n",
       "        region_code  district_code    population  construction_year  \n",
       "count  59400.000000   59400.000000  59400.000000       38691.000000  \n",
       "mean      15.297003       5.629747    179.909983        1996.814686  \n",
       "std       17.587406       9.633649    471.482176          12.472045  \n",
       "min        1.000000       0.000000      0.000000        1960.000000  \n",
       "25%        5.000000       2.000000      0.000000        1987.000000  \n",
       "50%       12.000000       3.000000     25.000000        2000.000000  \n",
       "75%       17.000000       5.000000    215.000000        2008.000000  \n",
       "max       99.000000      80.000000  30500.000000        2013.000000  "
      ]
     },
     "execution_count": 26,
     "metadata": {},
     "output_type": "execute_result"
    }
   ],
   "source": [
    "train_x.iloc[:,1:].describe()"
   ]
  },
  {
   "cell_type": "markdown",
   "metadata": {},
   "source": [
    "Change zero population to nan"
   ]
  },
  {
   "cell_type": "code",
   "execution_count": 27,
   "metadata": {},
   "outputs": [],
   "source": [
    "repl['population'] = {0: np.nan}"
   ]
  },
  {
   "cell_type": "code",
   "execution_count": 28,
   "metadata": {},
   "outputs": [
    {
     "data": {
      "text/plain": [
       "{'construction_year': {0: nan},\n",
       " 'scheme_management': {'None': nan},\n",
       " 'population': {0: nan}}"
      ]
     },
     "execution_count": 28,
     "metadata": {},
     "output_type": "execute_result"
    }
   ],
   "source": [
    "repl"
   ]
  },
  {
   "cell_type": "code",
   "execution_count": 29,
   "metadata": {},
   "outputs": [],
   "source": [
    "exclude.append('id')\n"
   ]
  },
  {
   "cell_type": "code",
   "execution_count": 30,
   "metadata": {},
   "outputs": [],
   "source": [
    "def read_preprocess(x_path, y_path, repl):\n",
    "    df_x = pd.read_csv(x_path)\n",
    "    df_y = pd.read_csv(y_path)\n",
    "    df = pd.merge(df_x, df_y, left_on='id', right_on='id', how='left')\n",
    "    df = df.replace(repl)\n",
    "    \n",
    "    df.date_recorded = pd.to_datetime(train_x.date_recorded, format=\"%Y-%m-%d\")\n",
    "    df['month_recorded'] = df.date_recorded.dt.month\n",
    "    df['year_recorded'] = df.date_recorded.dt.year\n",
    "    df['age_recorded'] = df.date_recorded.dt.year - df.construction_year\n",
    "    df.loc[df.age_recorded < 0, 'age_recorded'] = np.nan\n",
    "    df.permit = df.permit.replace({True: 'yes', False: 'no'})    \n",
    "    df.public_meeting = df.public_meeting.replace({True: 'yes', False: 'no'})    \n",
    "    \n",
    "    \n",
    "    return df\n",
    "    "
   ]
  },
  {
   "cell_type": "code",
   "execution_count": 31,
   "metadata": {},
   "outputs": [],
   "source": [
    "data = read_preprocess(path_train_x, path_train_y, repl )"
   ]
  },
  {
   "cell_type": "code",
   "execution_count": 32,
   "metadata": {},
   "outputs": [
    {
     "data": {
      "text/html": [
       "<div>\n",
       "<style scoped>\n",
       "    .dataframe tbody tr th:only-of-type {\n",
       "        vertical-align: middle;\n",
       "    }\n",
       "\n",
       "    .dataframe tbody tr th {\n",
       "        vertical-align: top;\n",
       "    }\n",
       "\n",
       "    .dataframe thead th {\n",
       "        text-align: right;\n",
       "    }\n",
       "</style>\n",
       "<table border=\"1\" class=\"dataframe\">\n",
       "  <thead>\n",
       "    <tr style=\"text-align: right;\">\n",
       "      <th></th>\n",
       "      <th>id</th>\n",
       "      <th>amount_tsh</th>\n",
       "      <th>date_recorded</th>\n",
       "      <th>funder</th>\n",
       "      <th>gps_height</th>\n",
       "      <th>installer</th>\n",
       "      <th>longitude</th>\n",
       "      <th>latitude</th>\n",
       "      <th>wpt_name</th>\n",
       "      <th>num_private</th>\n",
       "      <th>...</th>\n",
       "      <th>quantity_group</th>\n",
       "      <th>source</th>\n",
       "      <th>source_type</th>\n",
       "      <th>source_class</th>\n",
       "      <th>waterpoint_type</th>\n",
       "      <th>waterpoint_type_group</th>\n",
       "      <th>status_group</th>\n",
       "      <th>month_recorded</th>\n",
       "      <th>year_recorded</th>\n",
       "      <th>age_recorded</th>\n",
       "    </tr>\n",
       "  </thead>\n",
       "  <tbody>\n",
       "    <tr>\n",
       "      <th>39754</th>\n",
       "      <td>6483</td>\n",
       "      <td>0.0</td>\n",
       "      <td>2012-10-16</td>\n",
       "      <td>Tlc</td>\n",
       "      <td>0</td>\n",
       "      <td>TLC</td>\n",
       "      <td>31.730064</td>\n",
       "      <td>-5.030750</td>\n",
       "      <td>Mtalika</td>\n",
       "      <td>0</td>\n",
       "      <td>...</td>\n",
       "      <td>dry</td>\n",
       "      <td>shallow well</td>\n",
       "      <td>shallow well</td>\n",
       "      <td>groundwater</td>\n",
       "      <td>hand pump</td>\n",
       "      <td>hand pump</td>\n",
       "      <td>non functional</td>\n",
       "      <td>10</td>\n",
       "      <td>2012</td>\n",
       "      <td>NaN</td>\n",
       "    </tr>\n",
       "    <tr>\n",
       "      <th>25726</th>\n",
       "      <td>32536</td>\n",
       "      <td>0.0</td>\n",
       "      <td>2013-02-01</td>\n",
       "      <td>Tcrs</td>\n",
       "      <td>1144</td>\n",
       "      <td>TCRS</td>\n",
       "      <td>31.317121</td>\n",
       "      <td>-6.296959</td>\n",
       "      <td>Shuleni</td>\n",
       "      <td>0</td>\n",
       "      <td>...</td>\n",
       "      <td>enough</td>\n",
       "      <td>machine dbh</td>\n",
       "      <td>borehole</td>\n",
       "      <td>groundwater</td>\n",
       "      <td>hand pump</td>\n",
       "      <td>hand pump</td>\n",
       "      <td>functional</td>\n",
       "      <td>2</td>\n",
       "      <td>2013</td>\n",
       "      <td>23.0</td>\n",
       "    </tr>\n",
       "    <tr>\n",
       "      <th>53656</th>\n",
       "      <td>23656</td>\n",
       "      <td>0.0</td>\n",
       "      <td>2011-08-16</td>\n",
       "      <td>Lions Club</td>\n",
       "      <td>0</td>\n",
       "      <td>Hesawa</td>\n",
       "      <td>33.241982</td>\n",
       "      <td>-2.805785</td>\n",
       "      <td>Ibilingo C</td>\n",
       "      <td>0</td>\n",
       "      <td>...</td>\n",
       "      <td>enough</td>\n",
       "      <td>shallow well</td>\n",
       "      <td>shallow well</td>\n",
       "      <td>groundwater</td>\n",
       "      <td>other</td>\n",
       "      <td>other</td>\n",
       "      <td>non functional</td>\n",
       "      <td>8</td>\n",
       "      <td>2011</td>\n",
       "      <td>NaN</td>\n",
       "    </tr>\n",
       "  </tbody>\n",
       "</table>\n",
       "<p>3 rows × 44 columns</p>\n",
       "</div>"
      ],
      "text/plain": [
       "          id  amount_tsh date_recorded      funder  gps_height installer  \\\n",
       "39754   6483         0.0    2012-10-16         Tlc           0       TLC   \n",
       "25726  32536         0.0    2013-02-01        Tcrs        1144      TCRS   \n",
       "53656  23656         0.0    2011-08-16  Lions Club           0    Hesawa   \n",
       "\n",
       "       longitude  latitude    wpt_name  num_private  ... quantity_group  \\\n",
       "39754  31.730064 -5.030750     Mtalika            0  ...            dry   \n",
       "25726  31.317121 -6.296959     Shuleni            0  ...         enough   \n",
       "53656  33.241982 -2.805785  Ibilingo C            0  ...         enough   \n",
       "\n",
       "             source   source_type  source_class  waterpoint_type  \\\n",
       "39754  shallow well  shallow well   groundwater        hand pump   \n",
       "25726   machine dbh      borehole   groundwater        hand pump   \n",
       "53656  shallow well  shallow well   groundwater            other   \n",
       "\n",
       "      waterpoint_type_group    status_group  month_recorded year_recorded  \\\n",
       "39754             hand pump  non functional              10          2012   \n",
       "25726             hand pump      functional               2          2013   \n",
       "53656                 other  non functional               8          2011   \n",
       "\n",
       "      age_recorded  \n",
       "39754          NaN  \n",
       "25726         23.0  \n",
       "53656          NaN  \n",
       "\n",
       "[3 rows x 44 columns]"
      ]
     },
     "execution_count": 32,
     "metadata": {},
     "output_type": "execute_result"
    }
   ],
   "source": [
    "data.sample(3)"
   ]
  },
  {
   "cell_type": "markdown",
   "metadata": {},
   "source": [
    "## Missing values"
   ]
  },
  {
   "cell_type": "code",
   "execution_count": 33,
   "metadata": {},
   "outputs": [],
   "source": [
    "data = data.drop(exclude, axis=1)"
   ]
  },
  {
   "cell_type": "code",
   "execution_count": 34,
   "metadata": {
    "scrolled": true
   },
   "outputs": [
    {
     "data": {
      "text/plain": [
       "population           0.359949\n",
       "public_meeting       0.056128\n",
       "scheme_management    0.065286\n",
       "permit               0.051448\n",
       "construction_year    0.348636\n",
       "age_recorded         0.348788\n",
       "dtype: float64"
      ]
     },
     "execution_count": 34,
     "metadata": {},
     "output_type": "execute_result"
    }
   ],
   "source": [
    "col = [c for c in data.columns if c not in exclude]\n",
    "d = data[col].isnull().sum() / data.shape[0]\n",
    "d[d>0]"
   ]
  },
  {
   "cell_type": "markdown",
   "metadata": {},
   "source": [
    "Categorical variables"
   ]
  },
  {
   "cell_type": "code",
   "execution_count": 35,
   "metadata": {
    "scrolled": true
   },
   "outputs": [
    {
     "data": {
      "text/plain": [
       "Index(['public_meeting', 'scheme_management', 'permit'], dtype='object')"
      ]
     },
     "execution_count": 35,
     "metadata": {},
     "output_type": "execute_result"
    }
   ],
   "source": [
    "data.columns[(d>0) & (data.dtypes==object)]"
   ]
  },
  {
   "cell_type": "markdown",
   "metadata": {},
   "source": [
    "Numeric variables"
   ]
  },
  {
   "cell_type": "code",
   "execution_count": 36,
   "metadata": {},
   "outputs": [
    {
     "data": {
      "text/plain": [
       "Index(['population', 'construction_year', 'age_recorded'], dtype='object')"
      ]
     },
     "execution_count": 36,
     "metadata": {},
     "output_type": "execute_result"
    }
   ],
   "source": [
    "data.columns[(d>0) & (data.dtypes!=object)]"
   ]
  },
  {
   "cell_type": "code",
   "execution_count": 37,
   "metadata": {},
   "outputs": [
    {
     "data": {
      "text/plain": [
       "count    38682.000000\n",
       "mean        15.360245\n",
       "std         12.490610\n",
       "min          0.000000\n",
       "25%          5.000000\n",
       "50%         13.000000\n",
       "75%         25.000000\n",
       "max         53.000000\n",
       "Name: age_recorded, dtype: float64"
      ]
     },
     "execution_count": 37,
     "metadata": {},
     "output_type": "execute_result"
    }
   ],
   "source": [
    "data.age_recorded.describe()"
   ]
  },
  {
   "cell_type": "markdown",
   "metadata": {},
   "source": []
  },
  {
   "cell_type": "markdown",
   "metadata": {},
   "source": [
    "## Random Forest"
   ]
  },
  {
   "cell_type": "code",
   "execution_count": 38,
   "metadata": {},
   "outputs": [],
   "source": [
    "data = read_preprocess(path_train_x, path_train_y, repl )"
   ]
  },
  {
   "cell_type": "code",
   "execution_count": 39,
   "metadata": {},
   "outputs": [],
   "source": [
    "exclude = ['funder',\n",
    " 'installer',\n",
    " 'wpt_name',\n",
    " 'subvillage',\n",
    " 'ward',\n",
    " 'scheme_name',\n",
    " 'id',\n",
    " 'construction_year',\n",
    " 'date_recorded']"
   ]
  },
  {
   "cell_type": "code",
   "execution_count": 40,
   "metadata": {},
   "outputs": [],
   "source": [
    "from sklearn.compose import ColumnTransformer\n",
    "from sklearn.pipeline import Pipeline\n",
    "from sklearn.impute import SimpleImputer\n",
    "from sklearn.preprocessing import StandardScaler, OneHotEncoder\n",
    "from sklearn.model_selection import train_test_split\n",
    "\n",
    "from sklearn.linear_model import LogisticRegression\n",
    "from sklearn.ensemble import RandomForestClassifier\n",
    "from sklearn.metrics import accuracy_score, f1_score\n",
    "from sklearn.metrics import classification_report"
   ]
  },
  {
   "cell_type": "code",
   "execution_count": 41,
   "metadata": {},
   "outputs": [],
   "source": [
    "X = data.drop(['status_group'] + exclude, axis=1)\n",
    "y = data.status_group "
   ]
  },
  {
   "cell_type": "code",
   "execution_count": 42,
   "metadata": {},
   "outputs": [
    {
     "data": {
      "text/plain": [
       "(59400, 34)"
      ]
     },
     "execution_count": 42,
     "metadata": {},
     "output_type": "execute_result"
    }
   ],
   "source": [
    "X.shape"
   ]
  },
  {
   "cell_type": "code",
   "execution_count": 43,
   "metadata": {},
   "outputs": [
    {
     "name": "stdout",
     "output_type": "stream",
     "text": [
      "Index(['amount_tsh', 'gps_height', 'longitude', 'latitude', 'num_private',\n",
      "       'region_code', 'district_code', 'population', 'month_recorded',\n",
      "       'year_recorded', 'age_recorded'],\n",
      "      dtype='object')\n"
     ]
    }
   ],
   "source": [
    "numeric_features = X.select_dtypes(include=np.number).columns\n",
    "print(numeric_features)"
   ]
  },
  {
   "cell_type": "code",
   "execution_count": 44,
   "metadata": {},
   "outputs": [
    {
     "name": "stdout",
     "output_type": "stream",
     "text": [
      "Index(['basin', 'region', 'lga', 'public_meeting', 'recorded_by',\n",
      "       'scheme_management', 'permit', 'extraction_type',\n",
      "       'extraction_type_group', 'extraction_type_class', 'management',\n",
      "       'management_group', 'payment', 'payment_type', 'water_quality',\n",
      "       'quality_group', 'quantity', 'quantity_group', 'source', 'source_type',\n",
      "       'source_class', 'waterpoint_type', 'waterpoint_type_group'],\n",
      "      dtype='object')\n"
     ]
    }
   ],
   "source": [
    "categorical_features = X.select_dtypes(exclude=np.number).columns\n",
    "print(categorical_features)"
   ]
  },
  {
   "cell_type": "code",
   "execution_count": 45,
   "metadata": {},
   "outputs": [],
   "source": [
    "X = X[list(numeric_features) + list(categorical_features)].copy()"
   ]
  },
  {
   "cell_type": "code",
   "execution_count": 46,
   "metadata": {},
   "outputs": [],
   "source": [
    "numeric_transformer =  SimpleImputer(strategy='mean')\n",
    "categorical_transformer = Pipeline(steps=[\n",
    "    ('imputer', SimpleImputer(strategy='constant', fill_value='unknown')),\n",
    "    ('onehot', OneHotEncoder(handle_unknown='ignore'))])\n",
    "\n",
    "preprocessor = ColumnTransformer(\n",
    "    transformers=[\n",
    "        ('num', numeric_transformer, numeric_features),\n",
    "        ('cat', categorical_transformer, categorical_features)\n",
    "    ])"
   ]
  },
  {
   "cell_type": "code",
   "execution_count": 47,
   "metadata": {},
   "outputs": [],
   "source": [
    "X_train, X_dev, y_train, y_dev = train_test_split(X, y, test_size=0.2, random_state=42)"
   ]
  },
  {
   "cell_type": "code",
   "execution_count": 48,
   "metadata": {},
   "outputs": [
    {
     "name": "stdout",
     "output_type": "stream",
     "text": [
      "train dataset (47520, 34)\n",
      "dev dataset (11880, 34)\n"
     ]
    }
   ],
   "source": [
    "print('train dataset', X_train.shape)\n",
    "print('dev dataset', X_dev.shape)"
   ]
  },
  {
   "cell_type": "markdown",
   "metadata": {},
   "source": [
    "Save separated data"
   ]
  },
  {
   "cell_type": "code",
   "execution_count": 49,
   "metadata": {},
   "outputs": [
    {
     "name": "stderr",
     "output_type": "stream",
     "text": [
      "//anaconda3/lib/python3.7/site-packages/ipykernel_launcher.py:5: FutureWarning: The signature of `Series.to_csv` was aligned to that of `DataFrame.to_csv`, and argument 'header' will change its default value from False to True: please pass an explicit value to suppress this warning.\n",
      "  \"\"\"\n"
     ]
    }
   ],
   "source": [
    "import os\n",
    "\n",
    "save_path = '/Users/toma/Documents/Projects/taarifa-water-pumps/data/train_test_split'\n",
    "X_train.to_csv(os.path.join(save_path, 'x_train_split.csv'), index=False)\n",
    "y_train.to_csv(os.path.join(save_path, 'y_train_split.csv'), index=False )"
   ]
  },
  {
   "cell_type": "code",
   "execution_count": 50,
   "metadata": {},
   "outputs": [],
   "source": [
    "X_train = preprocessor.fit_transform(X_train) "
   ]
  },
  {
   "cell_type": "code",
   "execution_count": 51,
   "metadata": {},
   "outputs": [],
   "source": [
    "X_dev = preprocessor.transform(X_dev) "
   ]
  },
  {
   "cell_type": "code",
   "execution_count": 52,
   "metadata": {},
   "outputs": [
    {
     "name": "stdout",
     "output_type": "stream",
     "text": [
      "train dataset (47520, 311)\n",
      "dev dataset (11880, 311)\n"
     ]
    }
   ],
   "source": [
    "print('train dataset', X_train.shape)\n",
    "print('dev dataset', X_dev.shape)"
   ]
  },
  {
   "cell_type": "code",
   "execution_count": 53,
   "metadata": {},
   "outputs": [],
   "source": [
    "clf = RandomForestClassifier(n_estimators=120, max_depth=12, class_weight='balanced')"
   ]
  },
  {
   "cell_type": "code",
   "execution_count": 54,
   "metadata": {},
   "outputs": [
    {
     "data": {
      "text/plain": [
       "RandomForestClassifier(bootstrap=True, class_weight='balanced',\n",
       "                       criterion='gini', max_depth=12, max_features='auto',\n",
       "                       max_leaf_nodes=None, min_impurity_decrease=0.0,\n",
       "                       min_impurity_split=None, min_samples_leaf=1,\n",
       "                       min_samples_split=2, min_weight_fraction_leaf=0.0,\n",
       "                       n_estimators=120, n_jobs=None, oob_score=False,\n",
       "                       random_state=None, verbose=0, warm_start=False)"
      ]
     },
     "execution_count": 54,
     "metadata": {},
     "output_type": "execute_result"
    }
   ],
   "source": [
    "clf.fit(X_train, y_train)"
   ]
  },
  {
   "cell_type": "code",
   "execution_count": 55,
   "metadata": {},
   "outputs": [],
   "source": [
    "y_train_pred = clf.predict(X_train)"
   ]
  },
  {
   "cell_type": "code",
   "execution_count": 56,
   "metadata": {},
   "outputs": [],
   "source": [
    "y_dev_pred = clf.predict(X_dev)\n",
    "y_dev_pred_proba = clf.predict_proba(X_dev)"
   ]
  },
  {
   "cell_type": "code",
   "execution_count": 57,
   "metadata": {
    "scrolled": true
   },
   "outputs": [
    {
     "name": "stdout",
     "output_type": "stream",
     "text": [
      "Train set Performance\n",
      "accuracy 0.7395412457912458\n",
      "f1 0.6666813217429027\n",
      "\n",
      "Dev set peformance\n",
      "accuracy 0.7026094276094276\n",
      "f1 0.6228816197003085\n"
     ]
    }
   ],
   "source": [
    "print(\"Train set Performance\")\n",
    "print(\"accuracy\", accuracy_score(y_train, y_train_pred) )\n",
    "print(\"f1\", f1_score(y_train, y_train_pred,  average='macro') )\n",
    "print(\"\\nDev set peformance\")\n",
    "print(\"accuracy\", accuracy_score(y_dev, y_dev_pred) )\n",
    "print(\"f1\", f1_score(y_dev, y_dev_pred,  average='macro') )"
   ]
  },
  {
   "cell_type": "code",
   "execution_count": 58,
   "metadata": {},
   "outputs": [
    {
     "name": "stdout",
     "output_type": "stream",
     "text": [
      "                         precision    recall  f1-score   support\n",
      "\n",
      "             functional       0.82      0.78      0.80     25802\n",
      "functional needs repair       0.30      0.79      0.43      3466\n",
      "         non functional       0.90      0.67      0.77     18252\n",
      "\n",
      "               accuracy                           0.74     47520\n",
      "              macro avg       0.67      0.75      0.67     47520\n",
      "           weighted avg       0.81      0.74      0.76     47520\n",
      "\n"
     ]
    }
   ],
   "source": [
    "print(classification_report(y_train, y_train_pred))"
   ]
  },
  {
   "cell_type": "code",
   "execution_count": 59,
   "metadata": {},
   "outputs": [
    {
     "name": "stdout",
     "output_type": "stream",
     "text": [
      "                         precision    recall  f1-score   support\n",
      "\n",
      "             functional       0.79      0.75      0.77      6457\n",
      "functional needs repair       0.25      0.69      0.36       851\n",
      "         non functional       0.86      0.64      0.74      4572\n",
      "\n",
      "               accuracy                           0.70     11880\n",
      "              macro avg       0.63      0.69      0.62     11880\n",
      "           weighted avg       0.78      0.70      0.73     11880\n",
      "\n"
     ]
    }
   ],
   "source": [
    "print(classification_report(y_dev, y_dev_pred))\n",
    "\n"
   ]
  },
  {
   "cell_type": "markdown",
   "metadata": {},
   "source": [
    "### ROC and AUC"
   ]
  },
  {
   "cell_type": "code",
   "execution_count": 60,
   "metadata": {},
   "outputs": [],
   "source": [
    "from sklearn.metrics import roc_curve, auc\n",
    "from sklearn.preprocessing import label_binarize\n",
    "\n",
    "import matplotlib.pyplot as plt\n",
    "from itertools import cycle\n",
    "from scipy import interp\n",
    "%matplotlib inline"
   ]
  },
  {
   "cell_type": "code",
   "execution_count": 61,
   "metadata": {},
   "outputs": [
    {
     "data": {
      "text/plain": [
       "array(['functional', 'functional needs repair', 'non functional'],\n",
       "      dtype=object)"
      ]
     },
     "execution_count": 61,
     "metadata": {},
     "output_type": "execute_result"
    }
   ],
   "source": [
    "clf.classes_"
   ]
  },
  {
   "cell_type": "code",
   "execution_count": 62,
   "metadata": {},
   "outputs": [],
   "source": [
    "n_classes = len(clf.classes_)"
   ]
  },
  {
   "cell_type": "code",
   "execution_count": 63,
   "metadata": {},
   "outputs": [],
   "source": [
    "fpr = dict()\n",
    "tpr = dict()\n",
    "roc_auc = dict()\n",
    "for i, class_name in enumerate(clf.classes_):\n",
    "    fpr[class_name], tpr[class_name], _ = roc_curve(y_dev, y_dev_pred_proba[:, i], pos_label=class_name)\n",
    "    roc_auc[class_name] = auc(fpr[class_name], tpr[class_name])\n"
   ]
  },
  {
   "cell_type": "code",
   "execution_count": 64,
   "metadata": {},
   "outputs": [],
   "source": [
    "# Compute micro-average ROC curve and ROC area\n",
    "y_dev_bn = label_binarize(y_dev, classes=clf.classes_)\n",
    "fpr[\"micro\"], tpr[\"micro\"], _ = roc_curve(y_dev_bn.ravel(), y_dev_pred_proba.ravel())\n",
    "roc_auc[\"micro\"] = auc(fpr[\"micro\"], tpr[\"micro\"])\n",
    "\n",
    "# Compute macro-average ROC curve and ROC area\n",
    "\n",
    "# First aggregate all false positive rates\n",
    "all_fpr = np.unique(np.concatenate([fpr[cls] for cls in clf.classes_]))\n",
    "\n",
    "# Then interpolate all ROC curves at this points\n",
    "mean_tpr = np.zeros_like(all_fpr)\n",
    "for cls in clf.classes_:\n",
    "    mean_tpr += interp(all_fpr, fpr[cls], tpr[cls])\n",
    "\n",
    "# Finally average it and compute AUC\n",
    "mean_tpr /= n_classes\n",
    "\n",
    "fpr[\"macro\"] = all_fpr\n",
    "tpr[\"macro\"] = mean_tpr\n",
    "roc_auc[\"macro\"] = auc(fpr[\"macro\"], tpr[\"macro\"])\n"
   ]
  },
  {
   "cell_type": "code",
   "execution_count": 65,
   "metadata": {},
   "outputs": [
    {
     "data": {
      "text/plain": [
       "{'functional': 0.8588529928238299,\n",
       " 'functional needs repair': 0.8532576066153552,\n",
       " 'non functional': 0.8833746565922556,\n",
       " 'micro': 0.8778975643074969,\n",
       " 'macro': 0.8652012390436293}"
      ]
     },
     "execution_count": 65,
     "metadata": {},
     "output_type": "execute_result"
    }
   ],
   "source": [
    "roc_auc"
   ]
  },
  {
   "cell_type": "code",
   "execution_count": 66,
   "metadata": {},
   "outputs": [
    {
     "data": {
      "image/png": "[encoded data removed]",
      "text/plain": [
       "<Figure size 864x576 with 1 Axes>"
      ]
     },
     "metadata": {
      "needs_background": "light"
     },
     "output_type": "display_data"
    }
   ],
   "source": [
    "# Plot all ROC curves\n",
    "fig, ax = plt.subplots(figsize=(12,8))\n",
    "lw=1\n",
    "ax.plot(fpr[\"micro\"], tpr[\"micro\"],\n",
    "         label='micro-average ROC curve (area = {0:0.2f})'\n",
    "               ''.format(roc_auc[\"micro\"]),\n",
    "         color='deeppink', linestyle=':', linewidth=4)\n",
    "\n",
    "plt.plot(fpr[\"macro\"], tpr[\"macro\"],\n",
    "         label='macro-average ROC curve (area = {0:0.2f})'\n",
    "               ''.format(roc_auc[\"macro\"]),\n",
    "         color='navy', linestyle=':', linewidth=4)\n",
    "\n",
    "colors = cycle(['aqua', 'darkorange', 'cornflowerblue'])\n",
    "for cls, color in zip(clf.classes_, colors):\n",
    "    ax.plot(fpr[cls], tpr[cls], color=color, lw=lw,\n",
    "             label='ROC curve of class {0} (area = {1:0.2f})'\n",
    "             ''.format(cls, roc_auc[cls]))\n",
    "\n",
    "plt.plot([0, 1], [0, 1], 'k--', lw=lw)\n",
    "plt.xlim([0.0, 1.0])\n",
    "plt.ylim([0.0, 1.05])\n",
    "plt.xlabel('False Positive Rate')\n",
    "plt.ylabel('True Positive Rate')\n",
    "plt.title('ROC curve')\n",
    "plt.legend(loc=\"lower right\")\n",
    "plt.show()"
   ]
  },
  {
   "cell_type": "markdown",
   "metadata": {},
   "source": [
    "## Feature Importance"
   ]
  },
  {
   "cell_type": "code",
   "execution_count": 67,
   "metadata": {},
   "outputs": [],
   "source": [
    "importances = clf.feature_importances_"
   ]
  },
  {
   "cell_type": "code",
   "execution_count": 68,
   "metadata": {},
   "outputs": [],
   "source": [
    "features = list(numeric_features) + list(preprocessor.transformers_[1][1]['onehot']\\\n",
    "                         .get_feature_names(categorical_features))"
   ]
  },
  {
   "cell_type": "code",
   "execution_count": 69,
   "metadata": {
    "scrolled": false
   },
   "outputs": [
    {
     "data": {
      "text/plain": [
       "<matplotlib.axes._subplots.AxesSubplot at 0x11fba3550>"
      ]
     },
     "execution_count": 69,
     "metadata": {},
     "output_type": "execute_result"
    },
    {
     "data": {
      "image/png": "[encoded data removed]",
      "text/plain": [
       "<Figure size 720x360 with 1 Axes>"
      ]
     },
     "metadata": {
      "needs_background": "light"
     },
     "output_type": "display_data"
    }
   ],
   "source": [
    "pd.Series(importances, index=features).sort_values(ascending=False)[:20].plot(kind='bar', figsize=(10,5))"
   ]
  },
  {
   "cell_type": "code",
   "execution_count": 70,
   "metadata": {},
   "outputs": [
    {
     "data": {
      "text/plain": [
       "Index(['amount_tsh', 'gps_height', 'longitude', 'latitude', 'num_private',\n",
       "       'region_code', 'district_code', 'population', 'month_recorded',\n",
       "       'year_recorded', 'age_recorded'],\n",
       "      dtype='object')"
      ]
     },
     "execution_count": 70,
     "metadata": {},
     "output_type": "execute_result"
    }
   ],
   "source": [
    "numeric_features"
   ]
  },
  {
   "cell_type": "code",
   "execution_count": null,
   "metadata": {},
   "outputs": [],
   "source": []
  }
 ],
 "metadata": {
  "kernelspec": {
   "display_name": "Python 3",
   "language": "python",
   "name": "python3"
  },
  "language_info": {
   "codemirror_mode": {
    "name": "ipython",
    "version": 3
   },
   "file_extension": ".py",
   "mimetype": "text/x-python",
   "name": "python",
   "nbconvert_exporter": "python",
   "pygments_lexer": "ipython3",
   "version": "3.7.3"
  }
 },
 "nbformat": 4,
 "nbformat_minor": 2
}
